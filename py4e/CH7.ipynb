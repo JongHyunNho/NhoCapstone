{
 "cells": [
  {
   "cell_type": "code",
   "execution_count": 9,
   "metadata": {},
   "outputs": [],
   "source": [
    "fhand = open(\"hello.txt\",\"w\")"
   ]
  },
  {
   "cell_type": "code",
   "execution_count": 16,
   "metadata": {},
   "outputs": [
    {
     "name": "stdout",
     "output_type": "stream",
     "text": [
      "Hello World!\n"
     ]
    }
   ],
   "source": [
    "stuff1 = \"Hello World!\"\n",
    "print(stuff1)"
   ]
  },
  {
   "cell_type": "code",
   "execution_count": null,
   "metadata": {},
   "outputs": [],
   "source": []
  },
  {
   "cell_type": "code",
   "execution_count": 17,
   "metadata": {},
   "outputs": [
    {
     "name": "stdout",
     "output_type": "stream",
     "text": [
      "12\n"
     ]
    }
   ],
   "source": [
    "print(len(stuff1))"
   ]
  },
  {
   "cell_type": "code",
   "execution_count": null,
   "metadata": {},
   "outputs": [],
   "source": []
  },
  {
   "cell_type": "code",
   "execution_count": 18,
   "metadata": {},
   "outputs": [],
   "source": [
    "stuff2 = \"Hello\\nWorld!\""
   ]
  },
  {
   "cell_type": "code",
   "execution_count": null,
   "metadata": {},
   "outputs": [],
   "source": []
  },
  {
   "cell_type": "code",
   "execution_count": 19,
   "metadata": {},
   "outputs": [
    {
     "name": "stdout",
     "output_type": "stream",
     "text": [
      "Hello\n",
      "World!\n"
     ]
    }
   ],
   "source": [
    "print(stuff2)"
   ]
  },
  {
   "cell_type": "code",
   "execution_count": null,
   "metadata": {},
   "outputs": [],
   "source": []
  },
  {
   "cell_type": "code",
   "execution_count": 20,
   "metadata": {},
   "outputs": [
    {
     "name": "stdout",
     "output_type": "stream",
     "text": [
      "12\n"
     ]
    }
   ],
   "source": [
    "print(len(stuff2))"
   ]
  },
  {
   "cell_type": "code",
   "execution_count": 31,
   "metadata": {},
   "outputs": [
    {
     "name": "stdout",
     "output_type": "stream",
     "text": [
      "hi everyone welcom py4e \n",
      "\n",
      "today we're going to talk about String in PYTHON.\n",
      "\n"
     ]
    }
   ],
   "source": [
    "fhand = open(\"Hamlet.txt\")\n",
    "for line in fhand :\n",
    "    print(line)"
   ]
  },
  {
   "cell_type": "code",
   "execution_count": 32,
   "metadata": {},
   "outputs": [
    {
     "name": "stdout",
     "output_type": "stream",
     "text": [
      "Line Count: 2\n"
     ]
    }
   ],
   "source": [
    "fhand = open(\"Hamlet.txt\")\n",
    "count = 0\n",
    "\n",
    "for line in fhand :\n",
    "    count += 1\n",
    "print(\"Line Count:\",count)"
   ]
  },
  {
   "cell_type": "code",
   "execution_count": 35,
   "metadata": {},
   "outputs": [
    {
     "name": "stdout",
     "output_type": "stream",
     "text": [
      "94626\n",
      "From stephen.marquar\n"
     ]
    }
   ],
   "source": [
    "fhand = open(\"mbox-short.txt\")\n",
    "inp = fhand.read()\n",
    "print(len(inp))\n",
    "print(inp[:20])"
   ]
  },
  {
   "cell_type": "code",
   "execution_count": 36,
   "metadata": {},
   "outputs": [
    {
     "name": "stdout",
     "output_type": "stream",
     "text": [
      "From stephen.marquard@uct.ac.za Sat Jan  5 09:14:16 2008\n",
      "\n",
      "From: stephen.marquard@uct.ac.za\n",
      "\n",
      "From louis@media.berkeley.edu Fri Jan  4 18:10:48 2008\n",
      "\n",
      "From: louis@media.berkeley.edu\n",
      "\n",
      "From zqian@umich.edu Fri Jan  4 16:10:39 2008\n",
      "\n",
      "From: zqian@umich.edu\n",
      "\n",
      "From rjlowe@iupui.edu Fri Jan  4 15:46:24 2008\n",
      "\n",
      "From: rjlowe@iupui.edu\n",
      "\n",
      "From zqian@umich.edu Fri Jan  4 15:03:18 2008\n",
      "\n",
      "From: zqian@umich.edu\n",
      "\n",
      "From rjlowe@iupui.edu Fri Jan  4 14:50:18 2008\n",
      "\n",
      "From: rjlowe@iupui.edu\n",
      "\n",
      "From cwen@iupui.edu Fri Jan  4 11:37:30 2008\n",
      "\n",
      "From: cwen@iupui.edu\n",
      "\n",
      "From cwen@iupui.edu Fri Jan  4 11:35:08 2008\n",
      "\n",
      "From: cwen@iupui.edu\n",
      "\n",
      "From gsilver@umich.edu Fri Jan  4 11:12:37 2008\n",
      "\n",
      "From: gsilver@umich.edu\n",
      "\n",
      "From gsilver@umich.edu Fri Jan  4 11:11:52 2008\n",
      "\n",
      "From: gsilver@umich.edu\n",
      "\n",
      "From zqian@umich.edu Fri Jan  4 11:11:03 2008\n",
      "\n",
      "From: zqian@umich.edu\n",
      "\n",
      "From gsilver@umich.edu Fri Jan  4 11:10:22 2008\n",
      "\n",
      "From: gsilver@umich.edu\n",
      "\n",
      "From wagnermr@iupui.edu Fri Jan  4 10:38:42 2008\n",
      "\n",
      "From: wagnermr@iupui.edu\n",
      "\n",
      "From zqian@umich.edu Fri Jan  4 10:17:43 2008\n",
      "\n",
      "From: zqian@umich.edu\n",
      "\n",
      "From antranig@caret.cam.ac.uk Fri Jan  4 10:04:14 2008\n",
      "\n",
      "From: antranig@caret.cam.ac.uk\n",
      "\n",
      "From gopal.ramasammycook@gmail.com Fri Jan  4 09:05:31 2008\n",
      "\n",
      "From: gopal.ramasammycook@gmail.com\n",
      "\n",
      "From david.horwitz@uct.ac.za Fri Jan  4 07:02:32 2008\n",
      "\n",
      "From: david.horwitz@uct.ac.za\n",
      "\n",
      "From david.horwitz@uct.ac.za Fri Jan  4 06:08:27 2008\n",
      "\n",
      "From: david.horwitz@uct.ac.za\n",
      "\n",
      "From david.horwitz@uct.ac.za Fri Jan  4 04:49:08 2008\n",
      "\n",
      "From: david.horwitz@uct.ac.za\n",
      "\n",
      "From david.horwitz@uct.ac.za Fri Jan  4 04:33:44 2008\n",
      "\n",
      "From: david.horwitz@uct.ac.za\n",
      "\n",
      "From stephen.marquard@uct.ac.za Fri Jan  4 04:07:34 2008\n",
      "\n",
      "From: stephen.marquard@uct.ac.za\n",
      "\n",
      "From louis@media.berkeley.edu Thu Jan  3 19:51:21 2008\n",
      "\n",
      "From: louis@media.berkeley.edu\n",
      "\n",
      "From louis@media.berkeley.edu Thu Jan  3 17:18:23 2008\n",
      "\n",
      "From: louis@media.berkeley.edu\n",
      "\n",
      "From ray@media.berkeley.edu Thu Jan  3 17:07:00 2008\n",
      "\n",
      "From: ray@media.berkeley.edu\n",
      "\n",
      "From cwen@iupui.edu Thu Jan  3 16:34:40 2008\n",
      "\n",
      "From: cwen@iupui.edu\n",
      "\n",
      "From cwen@iupui.edu Thu Jan  3 16:29:07 2008\n",
      "\n",
      "From: cwen@iupui.edu\n",
      "\n",
      "From cwen@iupui.edu Thu Jan  3 16:23:48 2008\n",
      "\n",
      "From: cwen@iupui.edu\n",
      "\n"
     ]
    }
   ],
   "source": [
    "fhand = open(\"mbox-short.txt\")\n",
    "for line in fhand :\n",
    "    if line.startswith(\"From\") :\n",
    "        print(line)"
   ]
  },
  {
   "cell_type": "code",
   "execution_count": 37,
   "metadata": {},
   "outputs": [
    {
     "name": "stdout",
     "output_type": "stream",
     "text": [
      "From stephen.marquard@uct.ac.za Sat Jan  5 09:14:16 2008\n",
      "From: stephen.marquard@uct.ac.za\n",
      "From louis@media.berkeley.edu Fri Jan  4 18:10:48 2008\n",
      "From: louis@media.berkeley.edu\n",
      "From zqian@umich.edu Fri Jan  4 16:10:39 2008\n",
      "From: zqian@umich.edu\n",
      "From rjlowe@iupui.edu Fri Jan  4 15:46:24 2008\n",
      "From: rjlowe@iupui.edu\n",
      "From zqian@umich.edu Fri Jan  4 15:03:18 2008\n",
      "From: zqian@umich.edu\n",
      "From rjlowe@iupui.edu Fri Jan  4 14:50:18 2008\n",
      "From: rjlowe@iupui.edu\n",
      "From cwen@iupui.edu Fri Jan  4 11:37:30 2008\n",
      "From: cwen@iupui.edu\n",
      "From cwen@iupui.edu Fri Jan  4 11:35:08 2008\n",
      "From: cwen@iupui.edu\n",
      "From gsilver@umich.edu Fri Jan  4 11:12:37 2008\n",
      "From: gsilver@umich.edu\n",
      "From gsilver@umich.edu Fri Jan  4 11:11:52 2008\n",
      "From: gsilver@umich.edu\n",
      "From zqian@umich.edu Fri Jan  4 11:11:03 2008\n",
      "From: zqian@umich.edu\n",
      "From gsilver@umich.edu Fri Jan  4 11:10:22 2008\n",
      "From: gsilver@umich.edu\n",
      "From wagnermr@iupui.edu Fri Jan  4 10:38:42 2008\n",
      "From: wagnermr@iupui.edu\n",
      "From zqian@umich.edu Fri Jan  4 10:17:43 2008\n",
      "From: zqian@umich.edu\n",
      "From antranig@caret.cam.ac.uk Fri Jan  4 10:04:14 2008\n",
      "From: antranig@caret.cam.ac.uk\n",
      "From gopal.ramasammycook@gmail.com Fri Jan  4 09:05:31 2008\n",
      "From: gopal.ramasammycook@gmail.com\n",
      "From david.horwitz@uct.ac.za Fri Jan  4 07:02:32 2008\n",
      "From: david.horwitz@uct.ac.za\n",
      "From david.horwitz@uct.ac.za Fri Jan  4 06:08:27 2008\n",
      "From: david.horwitz@uct.ac.za\n",
      "From david.horwitz@uct.ac.za Fri Jan  4 04:49:08 2008\n",
      "From: david.horwitz@uct.ac.za\n",
      "From david.horwitz@uct.ac.za Fri Jan  4 04:33:44 2008\n",
      "From: david.horwitz@uct.ac.za\n",
      "From stephen.marquard@uct.ac.za Fri Jan  4 04:07:34 2008\n",
      "From: stephen.marquard@uct.ac.za\n",
      "From louis@media.berkeley.edu Thu Jan  3 19:51:21 2008\n",
      "From: louis@media.berkeley.edu\n",
      "From louis@media.berkeley.edu Thu Jan  3 17:18:23 2008\n",
      "From: louis@media.berkeley.edu\n",
      "From ray@media.berkeley.edu Thu Jan  3 17:07:00 2008\n",
      "From: ray@media.berkeley.edu\n",
      "From cwen@iupui.edu Thu Jan  3 16:34:40 2008\n",
      "From: cwen@iupui.edu\n",
      "From cwen@iupui.edu Thu Jan  3 16:29:07 2008\n",
      "From: cwen@iupui.edu\n",
      "From cwen@iupui.edu Thu Jan  3 16:23:48 2008\n",
      "From: cwen@iupui.edu\n"
     ]
    }
   ],
   "source": [
    "fhand = open(\"mbox-short.txt\")\n",
    "for line in fhand:\n",
    "    line = line.rstrip()\n",
    "    if line.startswith(\"From\"):\n",
    "        print(line)"
   ]
  },
  {
   "cell_type": "code",
   "execution_count": 1,
   "metadata": {},
   "outputs": [
    {
     "name": "stdout",
     "output_type": "stream",
     "text": [
      "Enter the file name: mbox-short.txt\n",
      "There were 27 subject lines in mbox-short.txt\n"
     ]
    }
   ],
   "source": [
    "fname = input(\"Enter the file name: \")\n",
    "try : \n",
    "    fhand = open(fname)\n",
    "except:\n",
    "    print(\"File cannot be opened: \", fname)\n",
    "    quit()\n",
    "    \n",
    "count = 0\n",
    "for line in fhand:\n",
    "    if line.startswith(\"Subject:\"):\n",
    "        count += 1\n",
    "print(\"There were\", count, \"subject lines in\", fname)"
   ]
  },
  {
   "cell_type": "code",
   "execution_count": null,
   "metadata": {},
   "outputs": [],
   "source": []
  },
  {
   "cell_type": "code",
   "execution_count": null,
   "metadata": {},
   "outputs": [],
   "source": []
  },
  {
   "cell_type": "code",
   "execution_count": null,
   "metadata": {},
   "outputs": [],
   "source": []
  },
  {
   "cell_type": "code",
   "execution_count": null,
   "metadata": {},
   "outputs": [],
   "source": []
  },
  {
   "cell_type": "code",
   "execution_count": null,
   "metadata": {},
   "outputs": [],
   "source": []
  },
  {
   "cell_type": "code",
   "execution_count": null,
   "metadata": {},
   "outputs": [],
   "source": []
  },
  {
   "cell_type": "code",
   "execution_count": null,
   "metadata": {},
   "outputs": [],
   "source": []
  },
  {
   "cell_type": "code",
   "execution_count": null,
   "metadata": {},
   "outputs": [],
   "source": []
  },
  {
   "cell_type": "code",
   "execution_count": null,
   "metadata": {},
   "outputs": [],
   "source": []
  },
  {
   "cell_type": "code",
   "execution_count": null,
   "metadata": {},
   "outputs": [],
   "source": []
  },
  {
   "cell_type": "code",
   "execution_count": null,
   "metadata": {},
   "outputs": [],
   "source": []
  },
  {
   "cell_type": "code",
   "execution_count": null,
   "metadata": {},
   "outputs": [],
   "source": []
  },
  {
   "cell_type": "code",
   "execution_count": null,
   "metadata": {},
   "outputs": [],
   "source": []
  },
  {
   "cell_type": "code",
   "execution_count": null,
   "metadata": {},
   "outputs": [],
   "source": []
  },
  {
   "cell_type": "code",
   "execution_count": null,
   "metadata": {},
   "outputs": [],
   "source": []
  },
  {
   "cell_type": "code",
   "execution_count": null,
   "metadata": {},
   "outputs": [],
   "source": [
    "\n"
   ]
  },
  {
   "cell_type": "code",
   "execution_count": null,
   "metadata": {},
   "outputs": [],
   "source": []
  },
  {
   "cell_type": "code",
   "execution_count": null,
   "metadata": {},
   "outputs": [],
   "source": []
  },
  {
   "cell_type": "code",
   "execution_count": null,
   "metadata": {},
   "outputs": [],
   "source": []
  },
  {
   "cell_type": "code",
   "execution_count": null,
   "metadata": {},
   "outputs": [],
   "source": []
  },
  {
   "cell_type": "code",
   "execution_count": null,
   "metadata": {},
   "outputs": [],
   "source": []
  },
  {
   "cell_type": "code",
   "execution_count": null,
   "metadata": {},
   "outputs": [],
   "source": []
  },
  {
   "cell_type": "code",
   "execution_count": null,
   "metadata": {},
   "outputs": [],
   "source": []
  },
  {
   "cell_type": "code",
   "execution_count": null,
   "metadata": {},
   "outputs": [],
   "source": []
  },
  {
   "cell_type": "code",
   "execution_count": null,
   "metadata": {},
   "outputs": [],
   "source": []
  },
  {
   "cell_type": "code",
   "execution_count": null,
   "metadata": {},
   "outputs": [],
   "source": []
  },
  {
   "cell_type": "code",
   "execution_count": null,
   "metadata": {},
   "outputs": [],
   "source": []
  },
  {
   "cell_type": "code",
   "execution_count": null,
   "metadata": {},
   "outputs": [],
   "source": []
  },
  {
   "cell_type": "code",
   "execution_count": null,
   "metadata": {},
   "outputs": [],
   "source": []
  },
  {
   "cell_type": "code",
   "execution_count": null,
   "metadata": {},
   "outputs": [],
   "source": []
  }
 ],
 "metadata": {
  "kernelspec": {
   "display_name": "Python 3",
   "language": "python",
   "name": "python3"
  },
  "language_info": {
   "codemirror_mode": {
    "name": "ipython",
    "version": 3
   },
   "file_extension": ".py",
   "mimetype": "text/x-python",
   "name": "python",
   "nbconvert_exporter": "python",
   "pygments_lexer": "ipython3",
   "version": "3.7.4"
  }
 },
 "nbformat": 4,
 "nbformat_minor": 2
}
