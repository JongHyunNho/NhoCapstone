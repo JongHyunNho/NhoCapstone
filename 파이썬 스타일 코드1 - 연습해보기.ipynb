{
 "cells": [
  {
   "cell_type": "markdown",
   "metadata": {},
   "source": [
    "파이썬 스타일 코드1 - 연습해보기"
   ]
  },
  {
   "cell_type": "markdown",
   "metadata": {},
   "source": [
    "# Css Selector 수정"
   ]
  },
  {
   "cell_type": "code",
   "execution_count": 24,
   "metadata": {},
   "outputs": [
    {
     "data": {
      "text/plain": [
       "' li'"
      ]
     },
     "execution_count": 24,
     "metadata": {},
     "output_type": "execute_result"
    }
   ],
   "source": [
    "selector = \"#today_main_news > div.hdline_news > ul > li:nth-child(1)\"\n",
    "selector_list = selector.split(\">\")\n",
    "# split 함수를 이용하여 selector 변수에 저장된 문자열을 \">\"를 기준으로 나누고, 그 결과를 리스트 자료형으로 저장한다.\n",
    "selector_list\n",
    "\"\"\"selector_list라는 리스트에서 맨 마지막 요소를 인덱싱한다.\n",
    "그리고 인덱싱한 것을 다시  : 를 기준으로 split해준다. 그리고 selector_list[-1]에 저장하는 요소는 그 split한 것의 가장 첫 번째 요소를\n",
    "인덱싱한다. 그 결과는 li 일 것이다. \"\"\"\n",
    "selector_list[-1] = selector_list[-1].split(\":\")[0]\n",
    "selector_list[-1]"
   ]
  },
  {
   "cell_type": "markdown",
   "metadata": {},
   "source": [
    "# list comprehension으로 만드는 구구단\n",
    "\n",
    "Q: list comprehension을 사용하여 구구단을 연산하는 함수 gugu_com을 작성하고 구구단 7단을 출력하시오."
   ]
  },
  {
   "cell_type": "code",
   "execution_count": 31,
   "metadata": {},
   "outputs": [],
   "source": [
    "def gugu_com(x=2):  # gugu_com 라는 함수를 만든다. 이 때 default 값은 2단으로 해놓는다.\n",
    "    # 리스트 컴프리헨션에 대한 내용이다. 여기의 내용은 다음과 밑줄과 동일한 효과이다.\n",
    "    [print(f\"{x} x {i} = {x*i}\") for i in range(1, 10)]\n",
    "    \"\"\"\n",
    "    for i in range(1,10):\n",
    "        print(f\"{x} x {i} = {x*i}\") \"\"\""
   ]
  },
  {
   "cell_type": "code",
   "execution_count": 33,
   "metadata": {},
   "outputs": [
    {
     "name": "stdout",
     "output_type": "stream",
     "text": [
      "7 x 1 = 7\n",
      "7 x 2 = 14\n",
      "7 x 3 = 21\n",
      "7 x 4 = 28\n",
      "7 x 5 = 35\n",
      "7 x 6 = 42\n",
      "7 x 7 = 49\n",
      "7 x 8 = 56\n",
      "7 x 9 = 63\n"
     ]
    }
   ],
   "source": [
    "gugu_com(7) # 7단을 출력해야 하므로 매개변수 값으로 7을 집어 넣는다."
   ]
  },
  {
   "cell_type": "markdown",
   "metadata": {},
   "source": [
    "# 두 주사위의 곱\n",
    "Q: list comprehension을 사용하여, 힌트를 제외하고는 한줄의 코드로 해당 결과를 가지는 이차원 리스트를 만드시오."
   ]
  },
  {
   "cell_type": "code",
   "execution_count": 1,
   "metadata": {},
   "outputs": [
    {
     "data": {
      "text/plain": [
       "'for j in die 이 것은 1부터 6까지의 수를 뽑아내는 것이고 [j*i for i in die]  이 것은 j에 할당된 1~6까지 총 6회차에 걸쳐서 \\ni에 새롭게 할당된 die 리스트의 값(1~ 6)을 곱해준다. 그리고 6*6 =36 번의 계산 결과를 6개의 리스트의 형식(2차원 형식)으로 리스트 내부에 저장해준다.\\n그렇게하면, 두 주사위의 곱 전체를 구하는 것과 동일한 효과를 내는 것이다.'"
      ]
     },
     "execution_count": 1,
     "metadata": {},
     "output_type": "execute_result"
    }
   ],
   "source": [
    "# 우선 die 라는 리스트를 리스트 컴프리헨션 형식으로 만든다. 즉, 1부터 6까지의 수를 리스트에 저장한다.\n",
    "die = [i for i in range(1, 7)]\n",
    "\n",
    "[[j*i for i in die] for j in die]\n",
    "\"\"\"for j in die 이 것은 1부터 6까지의 수를 뽑아내는 것이고 [j*i for i in die]  이 것은 j에 할당된 1~6까지 총 6회차에 걸쳐서 \n",
    "i에 새롭게 할당된 die 리스트의 값(1~ 6)을 곱해준다. 그리고 6*6 =36 번의 계산 결과를 6개의 리스트의 형식(2차원 형식)으로 리스트 내부에 저장해준다.\n",
    "그렇게하면, 두 주사위의 곱 전체를 구하는 것과 동일한 효과를 내는 것이다.\"\"\""
   ]
  },
  {
   "cell_type": "markdown",
   "metadata": {},
   "source": [
    "# 두 주사위의 합\n",
    "간단한 테이블 형태의 데이터를 2차원 리스트로 표현해보자. 2개의 주사위를 굴리면 다음 표와 같이 36가지의 결과가 나온다.<br>\n",
    "\n",
    "Q: 이것을 6 x 6 크기의 2차원 리스트로 생성하고, 인덱싱을 통해 2 + 6의 값을 2가지 방법으로 나타내시오. (2차원 리스트 생성시 방법의 제한은 없습니다.)"
   ]
  },
  {
   "cell_type": "code",
   "execution_count": 3,
   "metadata": {},
   "outputs": [
    {
     "name": "stdout",
     "output_type": "stream",
     "text": [
      "8\n",
      "8\n"
     ]
    }
   ],
   "source": [
    "dice_sum = [[2, 3, 4, 5, 6, 7],\n",
    "            [3, 4, 5, 6, 7, 8],\n",
    "            [4, 5, 6, 7, 8, 9],\n",
    "            [5, 6, 7, 8, 9, 10],\n",
    "            [6, 7, 8, 9, 10, 11],\n",
    "            [7, 8, 9, 10, 11, 12]]  # 이런 식으로 6*6 크기의 2차원 리스트를 형성할 수 있다.\n",
    "\n",
    "\n",
    "print(dice_sum[1][5])  # 2+ 6 은 두 번째 요소(리스트임)에 있는 6번째 요소의 값이다.\n",
    "print(dice_sum[5][1])  # 6 +2 는 여섯 번째 요소(리스트임)에 있는 두 번째 요소의 값이다."
   ]
  },
  {
   "cell_type": "code",
   "execution_count": 6,
   "metadata": {},
   "outputs": [
    {
     "name": "stdout",
     "output_type": "stream",
     "text": [
      "8\n",
      "8\n"
     ]
    }
   ],
   "source": [
    "die = [i for i in range(1, 7)]\n",
    "\n",
    "dice_sum = [[j+i for i in die] for j in die]\n",
    "\n",
    "\"\"\"그리고 위 3번 문제와 같이 이 dice_sum이라는 리스트 컴프리헨션 방식으로 만들 수 있는데 위의 방식에서 j*i를 j+i로 바꾸기만\n",
    "하면 되는 것이다. 코드 해석은 위에서 설명했기에 생략하겠다.\"\"\"\n",
    "print(dice_sum[1][5])\n",
    "print(dice_sum[5][1])"
   ]
  },
  {
   "cell_type": "markdown",
   "metadata": {},
   "source": [
    "# 도전문제\n",
    "표절 검사 프로그램\n",
    "강의노트 07 자료구조 collections 설명 참고\n",
    "\n",
    "아주대학교 글로벌 경영학과의 한 교수님은 과제의 표절 검사를 쉽게 하기 위해 Python을 통한 간단한 표절 검사 프로그램을 작성해보고자 한다.\n",
    "\n",
    "현재 구상 중인 프로그램은 복잡한 알고리즘을 필요로하지 않고, 간단하게 단어 빈도를 기반으로 하여, 그 유사도를 측정하고자한다."
   ]
  },
  {
   "cell_type": "code",
   "execution_count": 11,
   "metadata": {},
   "outputs": [],
   "source": [
    "from collections import defaultdict, Counter\n",
    "\n",
    "text = \"\"\"Python is a very simple programming language so even if you are new to programming, you can learn python without facing any issues.\"\"\"\n",
    "\n",
    "text2 = \"\"\"C is a very difficult programming language so even if you are good at programming, you can learn c with facing any issues.\"\"\"\n",
    "\n",
    "text3 = \"\"\"R Programming is good at statistical analysis. you can learn easily\"\"\""
   ]
  },
  {
   "cell_type": "markdown",
   "metadata": {},
   "source": [
    "문제1\n",
    "Q: defaultdict를 활용하여 text를 입력받으면 단어별 빈도를 측정하여 반환하는 함수 word_counter를 만드시오.\n",
    "\n",
    "HINT\n",
    "collections 모듈의 defaultdict는 단순한 dict와 다르게, 인덱싱에서 key 값이 없으면 오류가 아닌 0을 기본 값으로 가지게 한다.\n",
    "word_dict = dict()\n",
    "word_dict[\"key\"]\n",
    "\n",
    " KeyError\n",
    "\n",
    "word_dict = defaultdict(lambda: 0)\n",
    "word_dict[\"key\"] \n",
    "0\n",
    "\n",
    "word_dict[\"key\"] += 1\n",
    "word_dict[\"key\"]\n",
    "1\n",
    "유사도 측정을 위해 문장을 단어별로 분할해야하며, 편의를 위해 모두 소문자로 바꿔준다.\n",
    "split\n",
    "lower"
   ]
  },
  {
   "cell_type": "code",
   "execution_count": 20,
   "metadata": {},
   "outputs": [
    {
     "data": {
      "text/plain": [
       "defaultdict(<function __main__.word_counter.<locals>.<lambda>()>,\n",
       "            {'r': 1,\n",
       "             'programming': 1,\n",
       "             'is': 1,\n",
       "             'good': 1,\n",
       "             'at': 1,\n",
       "             'statistical': 1,\n",
       "             'analysis.': 1,\n",
       "             'you': 1,\n",
       "             'can': 1,\n",
       "             'learn': 1,\n",
       "             'easily': 1})"
      ]
     },
     "execution_count": 20,
     "metadata": {},
     "output_type": "execute_result"
    }
   ],
   "source": [
    "def word_counter(text):\n",
    "    word_count = defaultdict(lambda: 0)\n",
    "    for word in text.lower().split():\n",
    "        word_count[word] += 1\n",
    "\n",
    "    return word_count\n",
    "\n",
    "\n",
    "\"\"\"word_counter라는 함수를 정의하여 text, text2, text3에 저장된 문자열의 개수를 센다\n",
    "1.우선 collections 모듈의 defaultdict라는 함수를 이용하여 일반적인 딕셔너리와 다르게 인덱싱에서 키 값이 없으면 오류를 뱉어내는 것이\n",
    "아니라 0을 디폴트 값으로 가지게 한다.\n",
    "2. 우선 text.lower().split()로 text에 저장된 모든 문자를 소문자로 만듦과 동시에 띄어 쓰기로 단어를 구분해준다. 영어는 띄어 쓰기로 단어가 구분되니까.\n",
    "3. 그 것을 for문을 돌리는데 word_count[word] +=1 이 것을 통해 알 수 있듯이, word 즉 모든 띄어쓰기로 구분된 단어들은 key가 되고,\n",
    "그 키가 발견될 때 마다 value에 1을 더해주는 구조로 for문을 만든다.\n",
    "4. word_count라는 새로운 딕셔너리가 만들어지게 될 것이고. 그 것을 이 함수의 리턴값으로 받는다.\n",
    "\"\"\"\n",
    "word_counter(text3)  # 문제 풀이와는 다르게 text3의 단어 갯수를 출력해본다."
   ]
  },
  {
   "cell_type": "markdown",
   "metadata": {},
   "source": [
    "Q: 도전문제 1의 word_counter 활용하여 text와 text2의 유사도와 text와 text3의 유사도를 구하시오.\n",
    "\n",
    "Counter(A)가 Counter(B)와 얼마나 유사한지는 다음과 같은 공식을 따른다고 한다.(시그마는 해당 Counter dict 안의 value 값을 모두 합하라는 의미)\n",
    "\n",
    "Text_Similarity = (1−∑(Counter(A)−Counter(B))/∑Counter(A))×100"
   ]
  },
  {
   "cell_type": "code",
   "execution_count": 21,
   "metadata": {},
   "outputs": [],
   "source": [
    "def text_similarity(text_count_1, text_count_2):  # text의 유사도를 측정하는 함수이다.\n",
    "    # Counter라는 Counter 모듈의 함수를 이용해 Counter들 간의 연산이 가능하게 한다.\n",
    "    text1_count = Counter(text_count_1)\n",
    "    text2_count = Counter(text_count_2)  # 마찬가지다.\n",
    "\n",
    "    # text1_count에 저장된 모든 Counter 내부의 요소의 값들을 더해준다.\n",
    "    word_total = sum(text1_count.values())\n",
    "    # text1_count - text2_count 이런 식으로 COUNTER 끼리 같은 위치에 있는 요소끼리 계산해주고. 새로 형성된 Counter의 값들을 더해준다.\n",
    "    word_diff = sum((text1_count - text2_count).values())\n",
    "\n",
    "    # 이 함수의 리턴 값은 다음과 같이 정의해야 임의의 두 값을 집어넣으면 우리가 원하는 유사도를 측정할 수 있을 것이다.\n",
    "    return (1 - word_diff / word_total) * 100"
   ]
  },
  {
   "cell_type": "code",
   "execution_count": 22,
   "metadata": {},
   "outputs": [
    {
     "data": {
      "text/plain": [
       "73.91304347826086"
      ]
     },
     "execution_count": 22,
     "metadata": {},
     "output_type": "execute_result"
    }
   ],
   "source": [
    "text_similarity(word_counter(text), word_counter(text2))  # text와 text2의 유사도이다."
   ]
  },
  {
   "cell_type": "code",
   "execution_count": 23,
   "metadata": {},
   "outputs": [
    {
     "data": {
      "text/plain": [
       "21.739130434782606"
      ]
     },
     "execution_count": 23,
     "metadata": {},
     "output_type": "execute_result"
    }
   ],
   "source": [
    "text_similarity(word_counter(text), word_counter(text3))  # text와 text3의 유사도이다."
   ]
  }
 ],
 "metadata": {
  "kernelspec": {
   "display_name": "Python 3",
   "language": "python",
   "name": "python3"
  },
  "language_info": {
   "codemirror_mode": {
    "name": "ipython",
    "version": 3
   },
   "file_extension": ".py",
   "mimetype": "text/x-python",
   "name": "python",
   "nbconvert_exporter": "python",
   "pygments_lexer": "ipython3",
   "version": "3.8.3"
  },
  "toc": {
   "base_numbering": 1,
   "nav_menu": {},
   "number_sections": true,
   "sideBar": true,
   "skip_h1_title": false,
   "title_cell": "Table of Contents",
   "title_sidebar": "Contents",
   "toc_cell": false,
   "toc_position": {},
   "toc_section_display": true,
   "toc_window_display": false
  }
 },
 "nbformat": 4,
 "nbformat_minor": 4
}
