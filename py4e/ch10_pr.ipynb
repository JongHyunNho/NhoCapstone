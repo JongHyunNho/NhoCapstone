{
 "cells": [
  {
   "cell_type": "code",
   "execution_count": 2,
   "metadata": {},
   "outputs": [
    {
     "name": "stdout",
     "output_type": "stream",
     "text": [
      "Enter File:intro.txt\n",
      "the 226\n",
      "to 204\n",
      "a 165\n",
      "and 160\n",
      "you 130\n"
     ]
    }
   ],
   "source": [
    "fname = input(\"Enter File:\")\n",
    "if len(fname) < 1: fname = \"clown.txt\"\n",
    "hand = open(fname)\n",
    "\n",
    "di = dict()\n",
    "for lin in hand :\n",
    "    lin = lin.rstrip()\n",
    "    wds = lin.split()\n",
    "    for w in wds:\n",
    "        di[w] = di.get(w,0) + 1\n",
    "\n",
    "        \n",
    "tmp = list()\n",
    "for k, v in di.items():\n",
    "    newt = (v,k)\n",
    "    tmp.append(newt)\n",
    "    \n",
    "tmp = sorted(tmp, reverse= True)\n",
    "\n",
    "for v, k in tmp[:5]:\n",
    "    print(k,v)"
   ]
  },
  {
   "cell_type": "code",
   "execution_count": null,
   "metadata": {},
   "outputs": [],
   "source": []
  },
  {
   "cell_type": "code",
   "execution_count": null,
   "metadata": {},
   "outputs": [],
   "source": []
  }
 ],
 "metadata": {
  "kernelspec": {
   "display_name": "Python 3",
   "language": "python",
   "name": "python3"
  },
  "language_info": {
   "codemirror_mode": {
    "name": "ipython",
    "version": 3
   },
   "file_extension": ".py",
   "mimetype": "text/x-python",
   "name": "python",
   "nbconvert_exporter": "python",
   "pygments_lexer": "ipython3",
   "version": "3.7.4"
  }
 },
 "nbformat": 4,
 "nbformat_minor": 2
}
