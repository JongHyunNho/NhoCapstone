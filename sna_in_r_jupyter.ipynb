{
 "cells": [
  {
   "cell_type": "markdown",
   "metadata": {},
   "source": [
    "## 아래의 실습은 (https://kuduz.tistory.com/1087) 이 사이트의 자료를 인용하였습니다.\n",
    "\n",
    "## 사용할 패키지 설치하기"
   ]
  },
  {
   "cell_type": "code",
   "execution_count": 4,
   "metadata": {},
   "outputs": [
    {
     "name": "stderr",
     "output_type": "stream",
     "text": [
      "Warning message:\n",
      "\"package 'tidygraph' was built under R version 3.6.3\"\n",
      "\n",
      "Attaching package: 'tidygraph'\n",
      "\n",
      "\n",
      "The following object is masked from 'package:stats':\n",
      "\n",
      "    filter\n",
      "\n",
      "\n",
      "Warning message:\n",
      "\"package 'ggraph' was built under R version 3.6.3\"\n",
      "Loading required package: ggplot2\n",
      "\n",
      "Warning message:\n",
      "\"package 'ggplot2' was built under R version 3.6.3\"\n",
      "Warning message:\n",
      "\"package 'dplyr' was built under R version 3.6.3\"\n",
      "\n",
      "Attaching package: 'dplyr'\n",
      "\n",
      "\n",
      "The following objects are masked from 'package:stats':\n",
      "\n",
      "    filter, lag\n",
      "\n",
      "\n",
      "The following objects are masked from 'package:base':\n",
      "\n",
      "    intersect, setdiff, setequal, union\n",
      "\n",
      "\n",
      "Warning message:\n",
      "\"package 'igraph' was built under R version 3.6.3\"\n",
      "\n",
      "Attaching package: 'igraph'\n",
      "\n",
      "\n",
      "The following objects are masked from 'package:dplyr':\n",
      "\n",
      "    as_data_frame, groups, union\n",
      "\n",
      "\n",
      "The following object is masked from 'package:tidygraph':\n",
      "\n",
      "    groups\n",
      "\n",
      "\n",
      "The following objects are masked from 'package:stats':\n",
      "\n",
      "    decompose, spectrum\n",
      "\n",
      "\n",
      "The following object is masked from 'package:base':\n",
      "\n",
      "    union\n",
      "\n",
      "\n"
     ]
    }
   ],
   "source": [
    "library('tidygraph')\n",
    "library('ggraph')\n",
    "library(\"dplyr\")\n",
    "library(\"igraph\")"
   ]
  },
  {
   "cell_type": "markdown",
   "metadata": {},
   "source": [
    "## 사용할패키지 불러오기"
   ]
  },
  {
   "cell_type": "code",
   "execution_count": 6,
   "metadata": {},
   "outputs": [
    {
     "data": {
      "text/html": [
       "<table>\n",
       "<caption>A data.frame: 6 × 2</caption>\n",
       "<thead>\n",
       "\t<tr><th></th><th scope=col>from</th><th scope=col>to</th></tr>\n",
       "\t<tr><th></th><th scope=col>&lt;fct&gt;</th><th scope=col>&lt;fct&gt;</th></tr>\n",
       "</thead>\n",
       "<tbody>\n",
       "\t<tr><th scope=row>1</th><td>아이유  </td><td>G-DRAGON</td></tr>\n",
       "\t<tr><th scope=row>2</th><td>에픽하이</td><td>아이유  </td></tr>\n",
       "\t<tr><th scope=row>3</th><td>에픽하이</td><td>오혁    </td></tr>\n",
       "\t<tr><th scope=row>4</th><td>아이유  </td><td>오혁    </td></tr>\n",
       "\t<tr><th scope=row>5</th><td>HIGH4   </td><td>아이유  </td></tr>\n",
       "\t<tr><th scope=row>6</th><td>에픽하이</td><td>MINO    </td></tr>\n",
       "</tbody>\n",
       "</table>\n"
      ],
      "text/latex": [
       "A data.frame: 6 × 2\n",
       "\\begin{tabular}{r|ll}\n",
       "  & from & to\\\\\n",
       "  & <fct> & <fct>\\\\\n",
       "\\hline\n",
       "\t1 & 아이유   & G-DRAGON\\\\\n",
       "\t2 & 에픽하이 & 아이유  \\\\\n",
       "\t3 & 에픽하이 & 오혁    \\\\\n",
       "\t4 & 아이유   & 오혁    \\\\\n",
       "\t5 & HIGH4    & 아이유  \\\\\n",
       "\t6 & 에픽하이 & MINO    \\\\\n",
       "\\end{tabular}\n"
      ],
      "text/markdown": [
       "\n",
       "A data.frame: 6 × 2\n",
       "\n",
       "| <!--/--> | from &lt;fct&gt; | to &lt;fct&gt; |\n",
       "|---|---|---|\n",
       "| 1 | 아이유   | G-DRAGON |\n",
       "| 2 | 에픽하이 | 아이유   |\n",
       "| 3 | 에픽하이 | 오혁     |\n",
       "| 4 | 아이유   | 오혁     |\n",
       "| 5 | HIGH4    | 아이유   |\n",
       "| 6 | 에픽하이 | MINO     |\n",
       "\n"
      ],
      "text/plain": [
       "  from     to      \n",
       "1 아이유   G-DRAGON\n",
       "2 에픽하이 아이유  \n",
       "3 에픽하이 오혁    \n",
       "4 아이유   오혁    \n",
       "5 HIGH4    아이유  \n",
       "6 에픽하이 MINO    "
      ]
     },
     "metadata": {},
     "output_type": "display_data"
    },
    {
     "data": {
      "text/html": [
       "'data.frame'"
      ],
      "text/latex": [
       "'data.frame'"
      ],
      "text/markdown": [
       "'data.frame'"
      ],
      "text/plain": [
       "[1] \"data.frame\""
      ]
     },
     "metadata": {},
     "output_type": "display_data"
    },
    {
     "data": {
      "text/html": [
       "<style>\n",
       ".list-inline {list-style: none; margin:0; padding: 0}\n",
       ".list-inline>li {display: inline-block}\n",
       ".list-inline>li:not(:last-child)::after {content: \"\\00b7\"; padding: 0 .5ex}\n",
       "</style>\n",
       "<ol class=list-inline><li>'tbl_graph'</li><li>'igraph'</li></ol>\n"
      ],
      "text/latex": [
       "\\begin{enumerate*}\n",
       "\\item 'tbl\\_graph'\n",
       "\\item 'igraph'\n",
       "\\end{enumerate*}\n"
      ],
      "text/markdown": [
       "1. 'tbl_graph'\n",
       "2. 'igraph'\n",
       "\n",
       "\n"
      ],
      "text/plain": [
       "[1] \"tbl_graph\" \"igraph\"   "
      ]
     },
     "metadata": {},
     "output_type": "display_data"
    }
   ],
   "source": [
    "feat <- read.csv(\"featuring.csv\") #featuring 파일 불러오기\n",
    "head(feat)\n",
    "class(feat)\n",
    "fg <- as_tbl_graph(feat)\n",
    "class(fg)"
   ]
  },
  {
   "cell_type": "markdown",
   "metadata": {},
   "source": [
    "## featruing 파일 불러오기"
   ]
  },
  {
   "cell_type": "code",
   "execution_count": 9,
   "metadata": {},
   "outputs": [
    {
     "data": {
      "image/png": "[encoded data removed]",
      "text/plain": [
       "Plot with title \"\""
      ]
     },
     "metadata": {
      "image/png": {
       "height": 420,
       "width": 420
      }
     },
     "output_type": "display_data"
    }
   ],
   "source": [
    "## 뮤지션이 각각 노드이고, 이들이 피처링한 관계가 엣지가 된다.\n",
    "## tidygraph에서는 노드에 번호로 코드를 붙인 다음 이 번호를 연곃라는 방식으로 엣지를 정리한다.\n",
    "\n",
    "# plot이라는 기본 시각화 함수를 사용하여 fg의 값을 출력해본다. 이로 인해 기본적인 네트워크 표현을 해주었다.\n",
    "plot(fg)"
   ]
  },
  {
   "cell_type": "markdown",
   "metadata": {},
   "source": [
    "## ggraph를 이용해 그래프 구체화 해보기"
   ]
  },
  {
   "cell_type": "code",
   "execution_count": 15,
   "metadata": {},
   "outputs": [
    {
     "name": "stderr",
     "output_type": "stream",
     "text": [
      "Using `sugiyama` as default layout\n",
      "\n"
     ]
    },
    {
     "data": {
      "image/png": "[encoded data removed]",
      "text/plain": [
       "plot without title"
      ]
     },
     "metadata": {
      "image/png": {
       "height": 420,
       "width": 420
      }
     },
     "output_type": "display_data"
    }
   ],
   "source": [
    "# fg라는 데이터를 가지고 와서 각 노드를 점으로 찍고, 엣지는 선으로 연결하는 것이다.\n",
    "ggraph(fg) +  geom_node_point()  +  geom_edge_link()"
   ]
  },
  {
   "cell_type": "markdown",
   "metadata": {},
   "source": [
    "## 파이프 또는 %>%"
   ]
  },
  {
   "cell_type": "code",
   "execution_count": 17,
   "metadata": {},
   "outputs": [
    {
     "data": {
      "image/png": "[encoded data removed]",
      "text/plain": [
       "plot without title"
      ]
     },
     "metadata": {
      "image/png": {
       "height": 420,
       "width": 420
      }
     },
     "output_type": "display_data"
    }
   ],
   "source": [
    "# 여기서는 ggraph의 kk라는 layout을 사용하였다. \n",
    "feat %>%\n",
    "  as_tbl_graph() %>%\n",
    "  ggraph(layout='kk') + \n",
    "  geom_node_text(aes(label=name)) +\n",
    "  geom_edge_link(aes(start_cap = label_rect(node1.name), end_cap = label_rect(node2.name)))"
   ]
  },
  {
   "cell_type": "markdown",
   "metadata": {},
   "source": [
    "## 중심성(centrality) 확인하기\n",
    "\n",
    "- centrality_closeness는 근접 중심성을 계산해준다.\n",
    "- centrality_betweenness 매개 중심성을 계산해주는 함수이다."
   ]
  },
  {
   "cell_type": "code",
   "execution_count": 19,
   "metadata": {},
   "outputs": [
    {
     "data": {
      "text/html": [
       "<table>\n",
       "<caption>A tibble: 9 × 2</caption>\n",
       "<thead>\n",
       "\t<tr><th scope=col>name</th><th scope=col>bet</th></tr>\n",
       "\t<tr><th scope=col>&lt;chr&gt;</th><th scope=col>&lt;dbl&gt;</th></tr>\n",
       "</thead>\n",
       "<tbody>\n",
       "\t<tr><td>아이유       </td><td>3</td></tr>\n",
       "\t<tr><td>에픽하이     </td><td>0</td></tr>\n",
       "\t<tr><td>HIGH4        </td><td>0</td></tr>\n",
       "\t<tr><td>MINO         </td><td>0</td></tr>\n",
       "\t<tr><td>사이먼 도미닉</td><td>0</td></tr>\n",
       "\t<tr><td>G-DRAGON     </td><td>0</td></tr>\n",
       "\t<tr><td>오혁         </td><td>0</td></tr>\n",
       "\t<tr><td>더콰이엇     </td><td>0</td></tr>\n",
       "\t<tr><td>수현         </td><td>0</td></tr>\n",
       "</tbody>\n",
       "</table>\n"
      ],
      "text/latex": [
       "A tibble: 9 × 2\n",
       "\\begin{tabular}{ll}\n",
       " name & bet\\\\\n",
       " <chr> & <dbl>\\\\\n",
       "\\hline\n",
       "\t 아이유        & 3\\\\\n",
       "\t 에픽하이      & 0\\\\\n",
       "\t HIGH4         & 0\\\\\n",
       "\t MINO          & 0\\\\\n",
       "\t 사이먼 도미닉 & 0\\\\\n",
       "\t G-DRAGON      & 0\\\\\n",
       "\t 오혁          & 0\\\\\n",
       "\t 더콰이엇      & 0\\\\\n",
       "\t 수현          & 0\\\\\n",
       "\\end{tabular}\n"
      ],
      "text/markdown": [
       "\n",
       "A tibble: 9 × 2\n",
       "\n",
       "| name &lt;chr&gt; | bet &lt;dbl&gt; |\n",
       "|---|---|\n",
       "| 아이유        | 3 |\n",
       "| 에픽하이      | 0 |\n",
       "| HIGH4         | 0 |\n",
       "| MINO          | 0 |\n",
       "| 사이먼 도미닉 | 0 |\n",
       "| G-DRAGON      | 0 |\n",
       "| 오혁          | 0 |\n",
       "| 더콰이엇      | 0 |\n",
       "| 수현          | 0 |\n",
       "\n"
      ],
      "text/plain": [
       "  name          bet\n",
       "1 아이유        3  \n",
       "2 에픽하이      0  \n",
       "3 HIGH4         0  \n",
       "4 MINO          0  \n",
       "5 사이먼 도미닉 0  \n",
       "6 G-DRAGON      0  \n",
       "7 오혁          0  \n",
       "8 더콰이엇      0  \n",
       "9 수현          0  "
      ]
     },
     "metadata": {},
     "output_type": "display_data"
    },
    {
     "name": "stderr",
     "output_type": "stream",
     "text": [
      "Warning message:\n",
      "\"Problem with `mutate()` input `clo`.\n",
      "\u001b[34mi\u001b[39m At centrality.c:2784 :closeness centrality is not well-defined for disconnected graphs\n",
      "\u001b[34mi\u001b[39m Input `clo` is `centrality_closeness()`.\"\n",
      "Warning message in closeness(graph = graph, vids = V(graph), mode = mode, weights = weights, :\n",
      "\"At centrality.c:2784 :closeness centrality is not well-defined for disconnected graphs\"\n"
     ]
    },
    {
     "data": {
      "text/html": [
       "<table>\n",
       "<caption>A tibble: 9 × 3</caption>\n",
       "<thead>\n",
       "\t<tr><th scope=col>name</th><th scope=col>bet</th><th scope=col>clo</th></tr>\n",
       "\t<tr><th scope=col>&lt;chr&gt;</th><th scope=col>&lt;dbl&gt;</th><th scope=col>&lt;dbl&gt;</th></tr>\n",
       "</thead>\n",
       "<tbody>\n",
       "\t<tr><td>아이유       </td><td>3</td><td>0.01785714</td></tr>\n",
       "\t<tr><td>에픽하이     </td><td>0</td><td>0.05882353</td></tr>\n",
       "\t<tr><td>HIGH4        </td><td>0</td><td>0.02000000</td></tr>\n",
       "\t<tr><td>MINO         </td><td>0</td><td>0.01785714</td></tr>\n",
       "\t<tr><td>사이먼 도미닉</td><td>0</td><td>0.01562500</td></tr>\n",
       "\t<tr><td>G-DRAGON     </td><td>0</td><td>0.01388889</td></tr>\n",
       "\t<tr><td>오혁         </td><td>0</td><td>0.01388889</td></tr>\n",
       "\t<tr><td>더콰이엇     </td><td>0</td><td>0.01388889</td></tr>\n",
       "\t<tr><td>수현         </td><td>0</td><td>0.01388889</td></tr>\n",
       "</tbody>\n",
       "</table>\n"
      ],
      "text/latex": [
       "A tibble: 9 × 3\n",
       "\\begin{tabular}{lll}\n",
       " name & bet & clo\\\\\n",
       " <chr> & <dbl> & <dbl>\\\\\n",
       "\\hline\n",
       "\t 아이유        & 3 & 0.01785714\\\\\n",
       "\t 에픽하이      & 0 & 0.05882353\\\\\n",
       "\t HIGH4         & 0 & 0.02000000\\\\\n",
       "\t MINO          & 0 & 0.01785714\\\\\n",
       "\t 사이먼 도미닉 & 0 & 0.01562500\\\\\n",
       "\t G-DRAGON      & 0 & 0.01388889\\\\\n",
       "\t 오혁          & 0 & 0.01388889\\\\\n",
       "\t 더콰이엇      & 0 & 0.01388889\\\\\n",
       "\t 수현          & 0 & 0.01388889\\\\\n",
       "\\end{tabular}\n"
      ],
      "text/markdown": [
       "\n",
       "A tibble: 9 × 3\n",
       "\n",
       "| name &lt;chr&gt; | bet &lt;dbl&gt; | clo &lt;dbl&gt; |\n",
       "|---|---|---|\n",
       "| 아이유        | 3 | 0.01785714 |\n",
       "| 에픽하이      | 0 | 0.05882353 |\n",
       "| HIGH4         | 0 | 0.02000000 |\n",
       "| MINO          | 0 | 0.01785714 |\n",
       "| 사이먼 도미닉 | 0 | 0.01562500 |\n",
       "| G-DRAGON      | 0 | 0.01388889 |\n",
       "| 오혁          | 0 | 0.01388889 |\n",
       "| 더콰이엇      | 0 | 0.01388889 |\n",
       "| 수현          | 0 | 0.01388889 |\n",
       "\n"
      ],
      "text/plain": [
       "  name          bet clo       \n",
       "1 아이유        3   0.01785714\n",
       "2 에픽하이      0   0.05882353\n",
       "3 HIGH4         0   0.02000000\n",
       "4 MINO          0   0.01785714\n",
       "5 사이먼 도미닉 0   0.01562500\n",
       "6 G-DRAGON      0   0.01388889\n",
       "7 오혁          0   0.01388889\n",
       "8 더콰이엇      0   0.01388889\n",
       "9 수현          0   0.01388889"
      ]
     },
     "metadata": {},
     "output_type": "display_data"
    },
    {
     "data": {
      "text/html": [
       "1.2"
      ],
      "text/latex": [
       "1.2"
      ],
      "text/markdown": [
       "1.2"
      ],
      "text/plain": [
       "[1] 1.2"
      ]
     },
     "metadata": {},
     "output_type": "display_data"
    }
   ],
   "source": [
    "# 중심성 계산 \n",
    "\n",
    "# 여기서는 노드별 매개 중심성을 계산한 bet 열을 기준으로 내림차순(descending)으로 정렬하라고 입력했다. \n",
    "feat %>% \n",
    "  as_tbl_graph() %>% \n",
    "  mutate(bet= centrality_betweenness()) %>%\n",
    "  as_tibble %>%\n",
    "  arrange(desc(bet))\n",
    "\n",
    "\n",
    "feat %>% \n",
    "  as_tbl_graph() %>% \n",
    "  mutate(bet=centrality_betweenness(),\n",
    "             clo=centrality_closeness()) %>%\n",
    "  as_tibble\n",
    "\n",
    "# tidygraph는 이런 거리를 계산할 수 있도록 graph_mean_distance()라는 함수를 가지고 있다.\n",
    "feat %>% as_tbl_graph() %>%\n",
    "  with_graph(graph_mean_dist())"
   ]
  },
  {
   "cell_type": "markdown",
   "metadata": {},
   "source": [
    "## 수도권 전철 노선 자료"
   ]
  },
  {
   "cell_type": "code",
   "execution_count": 21,
   "metadata": {},
   "outputs": [],
   "source": [
    "subway <- read.csv('subway.csv')"
   ]
  },
  {
   "cell_type": "markdown",
   "metadata": {},
   "source": [
    "## ggraph를 활용해 그래프 그려보기\n"
   ]
  },
  {
   "cell_type": "code",
   "execution_count": 23,
   "metadata": {},
   "outputs": [
    {
     "data": {
      "image/png": "[encoded data removed]",
      "text/plain": [
       "plot without title"
      ]
     },
     "metadata": {
      "image/png": {
       "height": 420,
       "width": 420
      }
     },
     "output_type": "display_data"
    }
   ],
   "source": [
    "# 엣지는 호선별(line)로 색깔을 다르게 그리고, 노드는 색깔이 25% 회색이고 크기는 1인점으로 표현하였다.\n",
    "\n",
    "subway %>% as_tbl_graph() %>%\n",
    "  ggraph(layout='kk') + \n",
    "  geom_edge_link(aes(color=line)) + \n",
    "  geom_node_point(color='gray25', size=1)"
   ]
  },
  {
   "cell_type": "markdown",
   "metadata": {},
   "source": [
    "## 지하철의 고유벡터 중심성을 계산해본다."
   ]
  },
  {
   "cell_type": "code",
   "execution_count": 46,
   "metadata": {},
   "outputs": [
    {
     "data": {
      "text/html": [
       "<table>\n",
       "<caption>A tibble: 6 × 2</caption>\n",
       "<thead>\n",
       "\t<tr><th scope=col>name</th><th scope=col>eig</th></tr>\n",
       "\t<tr><th scope=col>&lt;chr&gt;</th><th scope=col>&lt;dbl&gt;</th></tr>\n",
       "</thead>\n",
       "<tbody>\n",
       "\t<tr><td>회기  </td><td>1.0000000</td></tr>\n",
       "\t<tr><td>청량리</td><td>0.8832807</td></tr>\n",
       "\t<tr><td>중랑  </td><td>0.5794512</td></tr>\n",
       "\t<tr><td>왕십리</td><td>0.3591030</td></tr>\n",
       "\t<tr><td>외대앞</td><td>0.2628353</td></tr>\n",
       "\t<tr><td>제기동</td><td>0.2372446</td></tr>\n",
       "</tbody>\n",
       "</table>\n"
      ],
      "text/latex": [
       "A tibble: 6 × 2\n",
       "\\begin{tabular}{ll}\n",
       " name & eig\\\\\n",
       " <chr> & <dbl>\\\\\n",
       "\\hline\n",
       "\t 회기   & 1.0000000\\\\\n",
       "\t 청량리 & 0.8832807\\\\\n",
       "\t 중랑   & 0.5794512\\\\\n",
       "\t 왕십리 & 0.3591030\\\\\n",
       "\t 외대앞 & 0.2628353\\\\\n",
       "\t 제기동 & 0.2372446\\\\\n",
       "\\end{tabular}\n"
      ],
      "text/markdown": [
       "\n",
       "A tibble: 6 × 2\n",
       "\n",
       "| name &lt;chr&gt; | eig &lt;dbl&gt; |\n",
       "|---|---|\n",
       "| 회기   | 1.0000000 |\n",
       "| 청량리 | 0.8832807 |\n",
       "| 중랑   | 0.5794512 |\n",
       "| 왕십리 | 0.3591030 |\n",
       "| 외대앞 | 0.2628353 |\n",
       "| 제기동 | 0.2372446 |\n",
       "\n"
      ],
      "text/plain": [
       "  name   eig      \n",
       "1 회기   1.0000000\n",
       "2 청량리 0.8832807\n",
       "3 중랑   0.5794512\n",
       "4 왕십리 0.3591030\n",
       "5 외대앞 0.2628353\n",
       "6 제기동 0.2372446"
      ]
     },
     "metadata": {},
     "output_type": "display_data"
    }
   ],
   "source": [
    "# 결과로 회기역, 청량리역, 중랑역이 중요한 역이라고 하는데, 이런 결과가 나온 것은 중심성을 계산할 때 엣지를 모두 똑같이 취급하였기 때문이다.\n",
    "subway %>% as_tbl_graph() %>% mutate(eig=centrality_eigen()) %>% as_tibble %>% arrange(desc(eig)) %>% head()"
   ]
  },
  {
   "cell_type": "code",
   "execution_count": 25,
   "metadata": {},
   "outputs": [
    {
     "data": {
      "text/html": [
       "<table>\n",
       "<caption>A data.frame: 6 × 3</caption>\n",
       "<thead>\n",
       "\t<tr><th></th><th scope=col>from</th><th scope=col>to</th><th scope=col>total</th></tr>\n",
       "\t<tr><th></th><th scope=col>&lt;fct&gt;</th><th scope=col>&lt;fct&gt;</th><th scope=col>&lt;int&gt;</th></tr>\n",
       "</thead>\n",
       "<tbody>\n",
       "\t<tr><th scope=row>1</th><td>가능</td><td>가락시장      </td><td>103</td></tr>\n",
       "\t<tr><th scope=row>2</th><td>가능</td><td>가산디지털단지</td><td>593</td></tr>\n",
       "\t<tr><th scope=row>3</th><td>가능</td><td>가양          </td><td>102</td></tr>\n",
       "\t<tr><th scope=row>4</th><td>가능</td><td>가재울        </td><td>  1</td></tr>\n",
       "\t<tr><th scope=row>5</th><td>가능</td><td>가정          </td><td>  2</td></tr>\n",
       "\t<tr><th scope=row>6</th><td>가능</td><td>가정중앙시장  </td><td>  5</td></tr>\n",
       "</tbody>\n",
       "</table>\n"
      ],
      "text/latex": [
       "A data.frame: 6 × 3\n",
       "\\begin{tabular}{r|lll}\n",
       "  & from & to & total\\\\\n",
       "  & <fct> & <fct> & <int>\\\\\n",
       "\\hline\n",
       "\t1 & 가능 & 가락시장       & 103\\\\\n",
       "\t2 & 가능 & 가산디지털단지 & 593\\\\\n",
       "\t3 & 가능 & 가양           & 102\\\\\n",
       "\t4 & 가능 & 가재울         &   1\\\\\n",
       "\t5 & 가능 & 가정           &   2\\\\\n",
       "\t6 & 가능 & 가정중앙시장   &   5\\\\\n",
       "\\end{tabular}\n"
      ],
      "text/markdown": [
       "\n",
       "A data.frame: 6 × 3\n",
       "\n",
       "| <!--/--> | from &lt;fct&gt; | to &lt;fct&gt; | total &lt;int&gt; |\n",
       "|---|---|---|---|\n",
       "| 1 | 가능 | 가락시장       | 103 |\n",
       "| 2 | 가능 | 가산디지털단지 | 593 |\n",
       "| 3 | 가능 | 가양           | 102 |\n",
       "| 4 | 가능 | 가재울         |   1 |\n",
       "| 5 | 가능 | 가정           |   2 |\n",
       "| 6 | 가능 | 가정중앙시장   |   5 |\n",
       "\n"
      ],
      "text/plain": [
       "  from to             total\n",
       "1 가능 가락시장       103  \n",
       "2 가능 가산디지털단지 593  \n",
       "3 가능 가양           102  \n",
       "4 가능 가재울           1  \n",
       "5 가능 가정             2  \n",
       "6 가능 가정중앙시장     5  "
      ]
     },
     "metadata": {},
     "output_type": "display_data"
    },
    {
     "data": {
      "text/html": [
       "<table>\n",
       "<caption>A tibble: 578 × 2</caption>\n",
       "<thead>\n",
       "\t<tr><th scope=col>name</th><th scope=col>eig</th></tr>\n",
       "\t<tr><th scope=col>&lt;chr&gt;</th><th scope=col>&lt;dbl&gt;</th></tr>\n",
       "</thead>\n",
       "<tbody>\n",
       "\t<tr><td>가산디지털단지</td><td>1.0000000</td></tr>\n",
       "\t<tr><td>영등포        </td><td>1.0000000</td></tr>\n",
       "\t<tr><td>사당          </td><td>1.0000000</td></tr>\n",
       "\t<tr><td>신도림        </td><td>1.0000000</td></tr>\n",
       "\t<tr><td>서울역        </td><td>1.0000000</td></tr>\n",
       "\t<tr><td>신림          </td><td>1.0000000</td></tr>\n",
       "\t<tr><td>천호          </td><td>0.9996930</td></tr>\n",
       "\t<tr><td>청량리        </td><td>0.9996930</td></tr>\n",
       "\t<tr><td>홍대입구      </td><td>0.9996930</td></tr>\n",
       "\t<tr><td>이수          </td><td>0.9996930</td></tr>\n",
       "\t<tr><td>종로3가       </td><td>0.9996930</td></tr>\n",
       "\t<tr><td>구로디지털단지</td><td>0.9996930</td></tr>\n",
       "\t<tr><td>합정          </td><td>0.9996930</td></tr>\n",
       "\t<tr><td>고속터미널    </td><td>0.9996930</td></tr>\n",
       "\t<tr><td>잠실          </td><td>0.9996930</td></tr>\n",
       "\t<tr><td>종로5가       </td><td>0.9996930</td></tr>\n",
       "\t<tr><td>수유          </td><td>0.9996081</td></tr>\n",
       "\t<tr><td>동대문        </td><td>0.9996081</td></tr>\n",
       "\t<tr><td>부천          </td><td>0.9994349</td></tr>\n",
       "\t<tr><td>대림          </td><td>0.9994096</td></tr>\n",
       "\t<tr><td>안양          </td><td>0.9994096</td></tr>\n",
       "\t<tr><td>수원          </td><td>0.9993296</td></tr>\n",
       "\t<tr><td>개봉          </td><td>0.9993232</td></tr>\n",
       "\t<tr><td>시청          </td><td>0.9993010</td></tr>\n",
       "\t<tr><td>부평          </td><td>0.9992161</td></tr>\n",
       "\t<tr><td>용산          </td><td>0.9992161</td></tr>\n",
       "\t<tr><td>양재          </td><td>0.9991342</td></tr>\n",
       "\t<tr><td>강남          </td><td>0.9991038</td></tr>\n",
       "\t<tr><td>교대          </td><td>0.9990916</td></tr>\n",
       "\t<tr><td>혜화          </td><td>0.9990894</td></tr>\n",
       "\t<tr><td>...</td><td>...</td></tr>\n",
       "\t<tr><td>김량장      </td><td>0.7381884</td></tr>\n",
       "\t<tr><td>수원92      </td><td>0.7366986</td></tr>\n",
       "\t<tr><td>세종대왕    </td><td>0.7312675</td></tr>\n",
       "\t<tr><td>신내        </td><td>0.7297378</td></tr>\n",
       "\t<tr><td>의정부중앙  </td><td>0.7241359</td></tr>\n",
       "\t<tr><td>새말        </td><td>0.7197158</td></tr>\n",
       "\t<tr><td>신포        </td><td>0.7087212</td></tr>\n",
       "\t<tr><td>검단오류    </td><td>0.6994454</td></tr>\n",
       "\t<tr><td>둔전        </td><td>0.6924179</td></tr>\n",
       "\t<tr><td>곤제        </td><td>0.6896720</td></tr>\n",
       "\t<tr><td>흥선        </td><td>0.6852961</td></tr>\n",
       "\t<tr><td>의정부시청  </td><td>0.6848933</td></tr>\n",
       "\t<tr><td>신원        </td><td>0.6844092</td></tr>\n",
       "\t<tr><td>귤현        </td><td>0.6836584</td></tr>\n",
       "\t<tr><td>초당        </td><td>0.6783156</td></tr>\n",
       "\t<tr><td>삼가        </td><td>0.6712706</td></tr>\n",
       "\t<tr><td>굴봉산      </td><td>0.6607245</td></tr>\n",
       "\t<tr><td>주안국가산단</td><td>0.6569829</td></tr>\n",
       "\t<tr><td>국제업무지구</td><td>0.6546761</td></tr>\n",
       "\t<tr><td>지석        </td><td>0.6498734</td></tr>\n",
       "\t<tr><td>시청용인대  </td><td>0.6484978</td></tr>\n",
       "\t<tr><td>효자        </td><td>0.6426678</td></tr>\n",
       "\t<tr><td>탑석        </td><td>0.6381720</td></tr>\n",
       "\t<tr><td>백양리      </td><td>0.6151808</td></tr>\n",
       "\t<tr><td>인천대공원  </td><td>0.6082220</td></tr>\n",
       "\t<tr><td>보평        </td><td>0.5499173</td></tr>\n",
       "\t<tr><td>경전철의정부</td><td>0.5054066</td></tr>\n",
       "\t<tr><td>운연        </td><td>0.4877989</td></tr>\n",
       "\t<tr><td>고진        </td><td>0.4266530</td></tr>\n",
       "\t<tr><td>달월        </td><td>0.3342306</td></tr>\n",
       "</tbody>\n",
       "</table>\n"
      ],
      "text/latex": [
       "A tibble: 578 × 2\n",
       "\\begin{tabular}{ll}\n",
       " name & eig\\\\\n",
       " <chr> & <dbl>\\\\\n",
       "\\hline\n",
       "\t 가산디지털단지 & 1.0000000\\\\\n",
       "\t 영등포         & 1.0000000\\\\\n",
       "\t 사당           & 1.0000000\\\\\n",
       "\t 신도림         & 1.0000000\\\\\n",
       "\t 서울역         & 1.0000000\\\\\n",
       "\t 신림           & 1.0000000\\\\\n",
       "\t 천호           & 0.9996930\\\\\n",
       "\t 청량리         & 0.9996930\\\\\n",
       "\t 홍대입구       & 0.9996930\\\\\n",
       "\t 이수           & 0.9996930\\\\\n",
       "\t 종로3가        & 0.9996930\\\\\n",
       "\t 구로디지털단지 & 0.9996930\\\\\n",
       "\t 합정           & 0.9996930\\\\\n",
       "\t 고속터미널     & 0.9996930\\\\\n",
       "\t 잠실           & 0.9996930\\\\\n",
       "\t 종로5가        & 0.9996930\\\\\n",
       "\t 수유           & 0.9996081\\\\\n",
       "\t 동대문         & 0.9996081\\\\\n",
       "\t 부천           & 0.9994349\\\\\n",
       "\t 대림           & 0.9994096\\\\\n",
       "\t 안양           & 0.9994096\\\\\n",
       "\t 수원           & 0.9993296\\\\\n",
       "\t 개봉           & 0.9993232\\\\\n",
       "\t 시청           & 0.9993010\\\\\n",
       "\t 부평           & 0.9992161\\\\\n",
       "\t 용산           & 0.9992161\\\\\n",
       "\t 양재           & 0.9991342\\\\\n",
       "\t 강남           & 0.9991038\\\\\n",
       "\t 교대           & 0.9990916\\\\\n",
       "\t 혜화           & 0.9990894\\\\\n",
       "\t ... & ...\\\\\n",
       "\t 김량장       & 0.7381884\\\\\n",
       "\t 수원92       & 0.7366986\\\\\n",
       "\t 세종대왕     & 0.7312675\\\\\n",
       "\t 신내         & 0.7297378\\\\\n",
       "\t 의정부중앙   & 0.7241359\\\\\n",
       "\t 새말         & 0.7197158\\\\\n",
       "\t 신포         & 0.7087212\\\\\n",
       "\t 검단오류     & 0.6994454\\\\\n",
       "\t 둔전         & 0.6924179\\\\\n",
       "\t 곤제         & 0.6896720\\\\\n",
       "\t 흥선         & 0.6852961\\\\\n",
       "\t 의정부시청   & 0.6848933\\\\\n",
       "\t 신원         & 0.6844092\\\\\n",
       "\t 귤현         & 0.6836584\\\\\n",
       "\t 초당         & 0.6783156\\\\\n",
       "\t 삼가         & 0.6712706\\\\\n",
       "\t 굴봉산       & 0.6607245\\\\\n",
       "\t 주안국가산단 & 0.6569829\\\\\n",
       "\t 국제업무지구 & 0.6546761\\\\\n",
       "\t 지석         & 0.6498734\\\\\n",
       "\t 시청용인대   & 0.6484978\\\\\n",
       "\t 효자         & 0.6426678\\\\\n",
       "\t 탑석         & 0.6381720\\\\\n",
       "\t 백양리       & 0.6151808\\\\\n",
       "\t 인천대공원   & 0.6082220\\\\\n",
       "\t 보평         & 0.5499173\\\\\n",
       "\t 경전철의정부 & 0.5054066\\\\\n",
       "\t 운연         & 0.4877989\\\\\n",
       "\t 고진         & 0.4266530\\\\\n",
       "\t 달월         & 0.3342306\\\\\n",
       "\\end{tabular}\n"
      ],
      "text/markdown": [
       "\n",
       "A tibble: 578 × 2\n",
       "\n",
       "| name &lt;chr&gt; | eig &lt;dbl&gt; |\n",
       "|---|---|\n",
       "| 가산디지털단지 | 1.0000000 |\n",
       "| 영등포         | 1.0000000 |\n",
       "| 사당           | 1.0000000 |\n",
       "| 신도림         | 1.0000000 |\n",
       "| 서울역         | 1.0000000 |\n",
       "| 신림           | 1.0000000 |\n",
       "| 천호           | 0.9996930 |\n",
       "| 청량리         | 0.9996930 |\n",
       "| 홍대입구       | 0.9996930 |\n",
       "| 이수           | 0.9996930 |\n",
       "| 종로3가        | 0.9996930 |\n",
       "| 구로디지털단지 | 0.9996930 |\n",
       "| 합정           | 0.9996930 |\n",
       "| 고속터미널     | 0.9996930 |\n",
       "| 잠실           | 0.9996930 |\n",
       "| 종로5가        | 0.9996930 |\n",
       "| 수유           | 0.9996081 |\n",
       "| 동대문         | 0.9996081 |\n",
       "| 부천           | 0.9994349 |\n",
       "| 대림           | 0.9994096 |\n",
       "| 안양           | 0.9994096 |\n",
       "| 수원           | 0.9993296 |\n",
       "| 개봉           | 0.9993232 |\n",
       "| 시청           | 0.9993010 |\n",
       "| 부평           | 0.9992161 |\n",
       "| 용산           | 0.9992161 |\n",
       "| 양재           | 0.9991342 |\n",
       "| 강남           | 0.9991038 |\n",
       "| 교대           | 0.9990916 |\n",
       "| 혜화           | 0.9990894 |\n",
       "| ... | ... |\n",
       "| 김량장       | 0.7381884 |\n",
       "| 수원92       | 0.7366986 |\n",
       "| 세종대왕     | 0.7312675 |\n",
       "| 신내         | 0.7297378 |\n",
       "| 의정부중앙   | 0.7241359 |\n",
       "| 새말         | 0.7197158 |\n",
       "| 신포         | 0.7087212 |\n",
       "| 검단오류     | 0.6994454 |\n",
       "| 둔전         | 0.6924179 |\n",
       "| 곤제         | 0.6896720 |\n",
       "| 흥선         | 0.6852961 |\n",
       "| 의정부시청   | 0.6848933 |\n",
       "| 신원         | 0.6844092 |\n",
       "| 귤현         | 0.6836584 |\n",
       "| 초당         | 0.6783156 |\n",
       "| 삼가         | 0.6712706 |\n",
       "| 굴봉산       | 0.6607245 |\n",
       "| 주안국가산단 | 0.6569829 |\n",
       "| 국제업무지구 | 0.6546761 |\n",
       "| 지석         | 0.6498734 |\n",
       "| 시청용인대   | 0.6484978 |\n",
       "| 효자         | 0.6426678 |\n",
       "| 탑석         | 0.6381720 |\n",
       "| 백양리       | 0.6151808 |\n",
       "| 인천대공원   | 0.6082220 |\n",
       "| 보평         | 0.5499173 |\n",
       "| 경전철의정부 | 0.5054066 |\n",
       "| 운연         | 0.4877989 |\n",
       "| 고진         | 0.4266530 |\n",
       "| 달월         | 0.3342306 |\n",
       "\n"
      ],
      "text/plain": [
       "    name           eig      \n",
       "1   가산디지털단지 1.0000000\n",
       "2   영등포         1.0000000\n",
       "3   사당           1.0000000\n",
       "4   신도림         1.0000000\n",
       "5   서울역         1.0000000\n",
       "6   신림           1.0000000\n",
       "7   천호           0.9996930\n",
       "8   청량리         0.9996930\n",
       "9   홍대입구       0.9996930\n",
       "10  이수           0.9996930\n",
       "11  종로3가        0.9996930\n",
       "12  구로디지털단지 0.9996930\n",
       "13  합정           0.9996930\n",
       "14  고속터미널     0.9996930\n",
       "15  잠실           0.9996930\n",
       "16  종로5가        0.9996930\n",
       "17  수유           0.9996081\n",
       "18  동대문         0.9996081\n",
       "19  부천           0.9994349\n",
       "20  대림           0.9994096\n",
       "21  안양           0.9994096\n",
       "22  수원           0.9993296\n",
       "23  개봉           0.9993232\n",
       "24  시청           0.9993010\n",
       "25  부평           0.9992161\n",
       "26  용산           0.9992161\n",
       "27  양재           0.9991342\n",
       "28  강남           0.9991038\n",
       "29  교대           0.9990916\n",
       "30  혜화           0.9990894\n",
       "... ...            ...      \n",
       "549 김량장         0.7381884\n",
       "550 수원92         0.7366986\n",
       "551 세종대왕       0.7312675\n",
       "552 신내           0.7297378\n",
       "553 의정부중앙     0.7241359\n",
       "554 새말           0.7197158\n",
       "555 신포           0.7087212\n",
       "556 검단오류       0.6994454\n",
       "557 둔전           0.6924179\n",
       "558 곤제           0.6896720\n",
       "559 흥선           0.6852961\n",
       "560 의정부시청     0.6848933\n",
       "561 신원           0.6844092\n",
       "562 귤현           0.6836584\n",
       "563 초당           0.6783156\n",
       "564 삼가           0.6712706\n",
       "565 굴봉산         0.6607245\n",
       "566 주안국가산단   0.6569829\n",
       "567 국제업무지구   0.6546761\n",
       "568 지석           0.6498734\n",
       "569 시청용인대     0.6484978\n",
       "570 효자           0.6426678\n",
       "571 탑석           0.6381720\n",
       "572 백양리         0.6151808\n",
       "573 인천대공원     0.6082220\n",
       "574 보평           0.5499173\n",
       "575 경전철의정부   0.5054066\n",
       "576 운연           0.4877989\n",
       "577 고진           0.4266530\n",
       "578 달월           0.3342306"
      ]
     },
     "metadata": {},
     "output_type": "display_data"
    }
   ],
   "source": [
    "metro <- read.csv('metro.csv')\n",
    "head(metro)\n",
    "\n",
    "# 중심성 구하기, 이 방식으로 했을 경우, 정확한 순위를 알 수 없다. 이럴 때 네트워크 특성을 정확하게 ㅣ해하기 위해 가중치(weights)라는 개념이 필요하다.\n",
    "metro %>% as_tbl_graph() %>%\n",
    "  mutate(eig=centrality_eigen()) %>%\n",
    "  as_tibble %>% \n",
    "  arrange(desc(eig))"
   ]
  },
  {
   "cell_type": "markdown",
   "metadata": {},
   "source": [
    "## 가중치 반영한 중심성 순위 구하기"
   ]
  },
  {
   "cell_type": "code",
   "execution_count": 45,
   "metadata": {},
   "outputs": [
    {
     "data": {
      "text/html": [
       "<table>\n",
       "<caption>A tibble: 6 × 2</caption>\n",
       "<thead>\n",
       "\t<tr><th scope=col>name</th><th scope=col>eig</th></tr>\n",
       "\t<tr><th scope=col>&lt;chr&gt;</th><th scope=col>&lt;dbl&gt;</th></tr>\n",
       "</thead>\n",
       "<tbody>\n",
       "\t<tr><td>강남      </td><td>0.013610434</td></tr>\n",
       "\t<tr><td>고속터미널</td><td>0.010648969</td></tr>\n",
       "\t<tr><td>잠실      </td><td>0.010488594</td></tr>\n",
       "\t<tr><td>홍대입구  </td><td>0.010395313</td></tr>\n",
       "\t<tr><td>서울역    </td><td>0.009233606</td></tr>\n",
       "\t<tr><td>사당      </td><td>0.007525885</td></tr>\n",
       "</tbody>\n",
       "</table>\n"
      ],
      "text/latex": [
       "A tibble: 6 × 2\n",
       "\\begin{tabular}{ll}\n",
       " name & eig\\\\\n",
       " <chr> & <dbl>\\\\\n",
       "\\hline\n",
       "\t 강남       & 0.013610434\\\\\n",
       "\t 고속터미널 & 0.010648969\\\\\n",
       "\t 잠실       & 0.010488594\\\\\n",
       "\t 홍대입구   & 0.010395313\\\\\n",
       "\t 서울역     & 0.009233606\\\\\n",
       "\t 사당       & 0.007525885\\\\\n",
       "\\end{tabular}\n"
      ],
      "text/markdown": [
       "\n",
       "A tibble: 6 × 2\n",
       "\n",
       "| name &lt;chr&gt; | eig &lt;dbl&gt; |\n",
       "|---|---|\n",
       "| 강남       | 0.013610434 |\n",
       "| 고속터미널 | 0.010648969 |\n",
       "| 잠실       | 0.010488594 |\n",
       "| 홍대입구   | 0.010395313 |\n",
       "| 서울역     | 0.009233606 |\n",
       "| 사당       | 0.007525885 |\n",
       "\n"
      ],
      "text/plain": [
       "  name       eig        \n",
       "1 강남       0.013610434\n",
       "2 고속터미널 0.010648969\n",
       "3 잠실       0.010488594\n",
       "4 홍대입구   0.010395313\n",
       "5 서울역     0.009233606\n",
       "6 사당       0.007525885"
      ]
     },
     "metadata": {},
     "output_type": "display_data"
    }
   ],
   "source": [
    "# centrality_pagerank(weights=total) 이걸 통해 알 수 있듯이 페이지 랭크는 순위를 따지는 함수이고, 여기서 가중치는 total이라는 열에 두었다.\n",
    "metro %>% as_tbl_graph() %>%\n",
    "  mutate(eig=centrality_pagerank(weights=total)) %>%\n",
    "  as_tibble %>% \n",
    "  arrange(desc(eig)) %>% head()"
   ]
  },
  {
   "cell_type": "markdown",
   "metadata": {},
   "source": [
    "## 프로배구 남자부 데이터에서 발견할 수 있는 놀라운 관계"
   ]
  },
  {
   "cell_type": "code",
   "execution_count": 27,
   "metadata": {},
   "outputs": [
    {
     "data": {
      "text/html": [
       "<table>\n",
       "<caption>A data.frame: 6 × 3</caption>\n",
       "<thead>\n",
       "\t<tr><th></th><th scope=col>선수</th><th scope=col>고교</th><th scope=col>대학</th></tr>\n",
       "\t<tr><th></th><th scope=col>&lt;fct&gt;</th><th scope=col>&lt;fct&gt;</th><th scope=col>&lt;fct&gt;</th></tr>\n",
       "</thead>\n",
       "<tbody>\n",
       "\t<tr><th scope=row>1</th><td>곽승석</td><td>동성고      </td><td>경기대</td></tr>\n",
       "\t<tr><th scope=row>2</th><td>김학민</td><td>수성고      </td><td>경희대</td></tr>\n",
       "\t<tr><th scope=row>3</th><td>심홍석</td><td>경북사대부고</td><td>홍익대</td></tr>\n",
       "\t<tr><th scope=row>4</th><td>정지석</td><td>송림고      </td><td>      </td></tr>\n",
       "\t<tr><th scope=row>5</th><td>임동혁</td><td>제천산업고  </td><td>      </td></tr>\n",
       "\t<tr><th scope=row>6</th><td>김규민</td><td>벌교상고    </td><td>경기대</td></tr>\n",
       "</tbody>\n",
       "</table>\n"
      ],
      "text/latex": [
       "A data.frame: 6 × 3\n",
       "\\begin{tabular}{r|lll}\n",
       "  & 선수 & 고교 & 대학\\\\\n",
       "  & <fct> & <fct> & <fct>\\\\\n",
       "\\hline\n",
       "\t1 & 곽승석 & 동성고       & 경기대\\\\\n",
       "\t2 & 김학민 & 수성고       & 경희대\\\\\n",
       "\t3 & 심홍석 & 경북사대부고 & 홍익대\\\\\n",
       "\t4 & 정지석 & 송림고       &       \\\\\n",
       "\t5 & 임동혁 & 제천산업고   &       \\\\\n",
       "\t6 & 김규민 & 벌교상고     & 경기대\\\\\n",
       "\\end{tabular}\n"
      ],
      "text/markdown": [
       "\n",
       "A data.frame: 6 × 3\n",
       "\n",
       "| <!--/--> | 선수 &lt;fct&gt; | 고교 &lt;fct&gt; | 대학 &lt;fct&gt; |\n",
       "|---|---|---|---|\n",
       "| 1 | 곽승석 | 동성고       | 경기대 |\n",
       "| 2 | 김학민 | 수성고       | 경희대 |\n",
       "| 3 | 심홍석 | 경북사대부고 | 홍익대 |\n",
       "| 4 | 정지석 | 송림고       | <!----> |\n",
       "| 5 | 임동혁 | 제천산업고   | <!----> |\n",
       "| 6 | 김규민 | 벌교상고     | 경기대 |\n",
       "\n"
      ],
      "text/plain": [
       "  선수   고교         대학  \n",
       "1 곽승석 동성고       경기대\n",
       "2 김학민 수성고       경희대\n",
       "3 심홍석 경북사대부고 홍익대\n",
       "4 정지석 송림고             \n",
       "5 임동혁 제천산업고         \n",
       "6 김규민 벌교상고     경기대"
      ]
     },
     "metadata": {},
     "output_type": "display_data"
    }
   ],
   "source": [
    "k <- read.csv('kovo.csv')\n",
    "head(k)"
   ]
  },
  {
   "cell_type": "markdown",
   "metadata": {},
   "source": [
    "## sna가 제대로 작동하기 위해서 데이터를 전처리한다. 기존 데이터는 고교, 대학 이렇게 2개의 열이였지만, 학교라는 한 개의 열로 바꾸고 두 열을 rbind 해준다."
   ]
  },
  {
   "cell_type": "code",
   "execution_count": 28,
   "metadata": {},
   "outputs": [],
   "source": [
    "k_고교 <- k[, c(1, 2)]\n",
    "k_대학 <- k[, c(1, 3)]\n",
    "names(k_고교)[2] <- '학교'\n",
    "names(k_대학)[2] <- '학교'\n",
    "k <- rbind(k_고교, k_대학)"
   ]
  },
  {
   "cell_type": "markdown",
   "metadata": {},
   "source": [
    "# 이상태로 고유벡터 중심성을 계산해보자."
   ]
  },
  {
   "cell_type": "code",
   "execution_count": 44,
   "metadata": {},
   "outputs": [
    {
     "data": {
      "text/html": [
       "<table>\n",
       "<caption>A tibble: 6 × 2</caption>\n",
       "<thead>\n",
       "\t<tr><th scope=col>name</th><th scope=col>eig</th></tr>\n",
       "\t<tr><th scope=col>&lt;chr&gt;</th><th scope=col>&lt;dbl&gt;</th></tr>\n",
       "</thead>\n",
       "<tbody>\n",
       "\t<tr><td>경기대  </td><td>1.0000000</td></tr>\n",
       "\t<tr><td>송림고  </td><td>0.7159369</td></tr>\n",
       "\t<tr><td>한양대  </td><td>0.4013367</td></tr>\n",
       "\t<tr><td>성균관대</td><td>0.3926957</td></tr>\n",
       "\t<tr><td>안우재  </td><td>0.3598989</td></tr>\n",
       "\t<tr><td>이민욱  </td><td>0.3598989</td></tr>\n",
       "</tbody>\n",
       "</table>\n"
      ],
      "text/latex": [
       "A tibble: 6 × 2\n",
       "\\begin{tabular}{ll}\n",
       " name & eig\\\\\n",
       " <chr> & <dbl>\\\\\n",
       "\\hline\n",
       "\t 경기대   & 1.0000000\\\\\n",
       "\t 송림고   & 0.7159369\\\\\n",
       "\t 한양대   & 0.4013367\\\\\n",
       "\t 성균관대 & 0.3926957\\\\\n",
       "\t 안우재   & 0.3598989\\\\\n",
       "\t 이민욱   & 0.3598989\\\\\n",
       "\\end{tabular}\n"
      ],
      "text/markdown": [
       "\n",
       "A tibble: 6 × 2\n",
       "\n",
       "| name &lt;chr&gt; | eig &lt;dbl&gt; |\n",
       "|---|---|\n",
       "| 경기대   | 1.0000000 |\n",
       "| 송림고   | 0.7159369 |\n",
       "| 한양대   | 0.4013367 |\n",
       "| 성균관대 | 0.3926957 |\n",
       "| 안우재   | 0.3598989 |\n",
       "| 이민욱   | 0.3598989 |\n",
       "\n"
      ],
      "text/plain": [
       "  name     eig      \n",
       "1 경기대   1.0000000\n",
       "2 송림고   0.7159369\n",
       "3 한양대   0.4013367\n",
       "4 성균관대 0.3926957\n",
       "5 안우재   0.3598989\n",
       "6 이민욱   0.3598989"
      ]
     },
     "metadata": {},
     "output_type": "display_data"
    }
   ],
   "source": [
    "k %>% as_tbl_graph() %>%\n",
    "  mutate(eig=centrality_eigen()) %>%\n",
    "  arrange(desc(eig)) %>%\n",
    "  as_tibble %>% head()"
   ]
  },
  {
   "cell_type": "markdown",
   "metadata": {},
   "source": [
    "## 고유벡터 중심성 계산에서 한 노드가 높게 나오면 다른 노드까지 덩달아 중심성이 높에 올라가는 현상이 발생한다. 이를 해결하기 위해서 페이지랭크를 사용한다. "
   ]
  },
  {
   "cell_type": "code",
   "execution_count": 43,
   "metadata": {},
   "outputs": [
    {
     "data": {
      "text/html": [
       "<table>\n",
       "<caption>A tibble: 6 × 2</caption>\n",
       "<thead>\n",
       "\t<tr><th scope=col>name</th><th scope=col>pr</th></tr>\n",
       "\t<tr><th scope=col>&lt;chr&gt;</th><th scope=col>&lt;dbl&gt;</th></tr>\n",
       "</thead>\n",
       "<tbody>\n",
       "\t<tr><td>경기대  </td><td>0.03625744</td></tr>\n",
       "\t<tr><td>성균관대</td><td>0.03625744</td></tr>\n",
       "\t<tr><td>인하대  </td><td>0.03438395</td></tr>\n",
       "\t<tr><td>한양대  </td><td>0.03251047</td></tr>\n",
       "\t<tr><td>송림고  </td><td>0.02876350</td></tr>\n",
       "\t<tr><td>경희대  </td><td>0.02689002</td></tr>\n",
       "</tbody>\n",
       "</table>\n"
      ],
      "text/latex": [
       "A tibble: 6 × 2\n",
       "\\begin{tabular}{ll}\n",
       " name & pr\\\\\n",
       " <chr> & <dbl>\\\\\n",
       "\\hline\n",
       "\t 경기대   & 0.03625744\\\\\n",
       "\t 성균관대 & 0.03625744\\\\\n",
       "\t 인하대   & 0.03438395\\\\\n",
       "\t 한양대   & 0.03251047\\\\\n",
       "\t 송림고   & 0.02876350\\\\\n",
       "\t 경희대   & 0.02689002\\\\\n",
       "\\end{tabular}\n"
      ],
      "text/markdown": [
       "\n",
       "A tibble: 6 × 2\n",
       "\n",
       "| name &lt;chr&gt; | pr &lt;dbl&gt; |\n",
       "|---|---|\n",
       "| 경기대   | 0.03625744 |\n",
       "| 성균관대 | 0.03625744 |\n",
       "| 인하대   | 0.03438395 |\n",
       "| 한양대   | 0.03251047 |\n",
       "| 송림고   | 0.02876350 |\n",
       "| 경희대   | 0.02689002 |\n",
       "\n"
      ],
      "text/plain": [
       "  name     pr        \n",
       "1 경기대   0.03625744\n",
       "2 성균관대 0.03625744\n",
       "3 인하대   0.03438395\n",
       "4 한양대   0.03251047\n",
       "5 송림고   0.02876350\n",
       "6 경희대   0.02689002"
      ]
     },
     "metadata": {},
     "output_type": "display_data"
    }
   ],
   "source": [
    "k %>% as_tbl_graph() %>%\n",
    "  mutate(pr=centrality_pagerank()) %>%\n",
    "  arrange(desc(pr)) %>%\n",
    "  as_tibble %>% head()"
   ]
  },
  {
   "cell_type": "markdown",
   "metadata": {},
   "source": [
    "# 이제 노드에서 선수만 분리하는 작업을 실행해본다."
   ]
  },
  {
   "cell_type": "code",
   "execution_count": 31,
   "metadata": {},
   "outputs": [],
   "source": [
    "kg <- graph_from_data_frame(k)\n",
    "V(kg)$type <- bipartite_mapping(kg)$type\n",
    "km <- as_incidence_matrix(kg)\n",
    "km <- km %*% t(km)\n",
    "diag(km) <- 0"
   ]
  },
  {
   "cell_type": "markdown",
   "metadata": {},
   "source": [
    "## 위 pagerank를 통해 고교 또는 대학만 동문에는 가중치 1, 두 학교 모두 동문일 때는 2가 가중치에 들어갔다\n",
    "\n",
    "# 학교없이 선수만 대상으로  페이지랭크를 구하기"
   ]
  },
  {
   "cell_type": "code",
   "execution_count": 39,
   "metadata": {},
   "outputs": [
    {
     "data": {
      "text/plain": [
       "\u001b[90m# A tbl_graph: 101 nodes and 1554 edges\n",
       "\u001b[39m\u001b[90m#\n",
       "\u001b[39m\u001b[90m# A directed simple graph with 1 component\n",
       "\u001b[39m\u001b[90m#\n",
       "\u001b[39m\u001b[90m# Node Data: 101 x 1 (active)\u001b[39m\n",
       "  name  \n",
       "  \u001b[3m\u001b[90m<chr>\u001b[39m\u001b[23m \n",
       "\u001b[90m1\u001b[39m 곽승석\n",
       "\u001b[90m2\u001b[39m 김학민\n",
       "\u001b[90m3\u001b[39m 심홍석\n",
       "\u001b[90m4\u001b[39m 정지석\n",
       "\u001b[90m5\u001b[39m 임동혁\n",
       "\u001b[90m6\u001b[39m 김규민\n",
       "\u001b[90m# ... with 95 more rows\u001b[39m\n",
       "\u001b[90m#\n",
       "\u001b[39m\u001b[90m# Edge Data: 1,554 x 3\u001b[39m\n",
       "   from    to weight\n",
       "  \u001b[3m\u001b[90m<int>\u001b[39m\u001b[23m \u001b[3m\u001b[90m<int>\u001b[39m\u001b[23m  \u001b[3m\u001b[90m<dbl>\u001b[39m\u001b[23m\n",
       "\u001b[90m1\u001b[39m     1     6      1\n",
       "\u001b[90m2\u001b[39m     1    13      1\n",
       "\u001b[90m3\u001b[39m     1    20      2\n",
       "\u001b[90m# ... with 1,551 more rows\u001b[39m"
      ]
     },
     "metadata": {},
     "output_type": "display_data"
    },
    {
     "data": {
      "text/html": [
       "<table>\n",
       "<caption>A tibble: 6 × 2</caption>\n",
       "<thead>\n",
       "\t<tr><th scope=col>name</th><th scope=col>pg</th></tr>\n",
       "\t<tr><th scope=col>&lt;chr&gt;</th><th scope=col>&lt;dbl&gt;</th></tr>\n",
       "</thead>\n",
       "<tbody>\n",
       "\t<tr><td>신으뜸</td><td>0.01535465</td></tr>\n",
       "\t<tr><td>강민웅</td><td>0.01535465</td></tr>\n",
       "\t<tr><td>우상조</td><td>0.01435966</td></tr>\n",
       "\t<tr><td>신동광</td><td>0.01435966</td></tr>\n",
       "\t<tr><td>손주형</td><td>0.01419934</td></tr>\n",
       "\t<tr><td>안우재</td><td>0.01357564</td></tr>\n",
       "</tbody>\n",
       "</table>\n"
      ],
      "text/latex": [
       "A tibble: 6 × 2\n",
       "\\begin{tabular}{ll}\n",
       " name & pg\\\\\n",
       " <chr> & <dbl>\\\\\n",
       "\\hline\n",
       "\t 신으뜸 & 0.01535465\\\\\n",
       "\t 강민웅 & 0.01535465\\\\\n",
       "\t 우상조 & 0.01435966\\\\\n",
       "\t 신동광 & 0.01435966\\\\\n",
       "\t 손주형 & 0.01419934\\\\\n",
       "\t 안우재 & 0.01357564\\\\\n",
       "\\end{tabular}\n"
      ],
      "text/markdown": [
       "\n",
       "A tibble: 6 × 2\n",
       "\n",
       "| name &lt;chr&gt; | pg &lt;dbl&gt; |\n",
       "|---|---|\n",
       "| 신으뜸 | 0.01535465 |\n",
       "| 강민웅 | 0.01535465 |\n",
       "| 우상조 | 0.01435966 |\n",
       "| 신동광 | 0.01435966 |\n",
       "| 손주형 | 0.01419934 |\n",
       "| 안우재 | 0.01357564 |\n",
       "\n"
      ],
      "text/plain": [
       "  name   pg        \n",
       "1 신으뜸 0.01535465\n",
       "2 강민웅 0.01535465\n",
       "3 우상조 0.01435966\n",
       "4 신동광 0.01435966\n",
       "5 손주형 0.01419934\n",
       "6 안우재 0.01357564"
      ]
     },
     "metadata": {},
     "output_type": "display_data"
    }
   ],
   "source": [
    "# 선수만 나오게 된다.\n",
    "km %>% as_tbl_graph()\n",
    "\n",
    "# 전에 나오지 않던 강민웅과 신으뜸이 중요한 인물이 되었다. 이 둘은 동일한 고등학교 대학교에 나왔다.\n",
    "km %>% as_tbl_graph() %>%\n",
    "  mutate(pg=centrality_pagerank()) %>%\n",
    "  arrange(desc(pg)) %>%\n",
    "  as_tibble %>% head()"
   ]
  },
  {
   "cell_type": "code",
   "execution_count": 34,
   "metadata": {},
   "outputs": [],
   "source": [
    "## 비슷한 특징이 있는 노드끼리 그룹핑"
   ]
  },
  {
   "cell_type": "code",
   "execution_count": 42,
   "metadata": {},
   "outputs": [
    {
     "data": {
      "text/html": [
       "<table>\n",
       "<caption>A tibble: 10 × 2</caption>\n",
       "<thead>\n",
       "\t<tr><th scope=col>name</th><th scope=col>cm</th></tr>\n",
       "\t<tr><th scope=col>&lt;chr&gt;</th><th scope=col>&lt;int&gt;</th></tr>\n",
       "</thead>\n",
       "<tbody>\n",
       "\t<tr><td>함형진</td><td>8</td></tr>\n",
       "\t<tr><td>박준혁</td><td>8</td></tr>\n",
       "\t<tr><td>한정훈</td><td>8</td></tr>\n",
       "\t<tr><td>안준찬</td><td>8</td></tr>\n",
       "\t<tr><td>하승우</td><td>8</td></tr>\n",
       "\t<tr><td>조국기</td><td>8</td></tr>\n",
       "\t<tr><td>정지석</td><td>7</td></tr>\n",
       "\t<tr><td>임동혁</td><td>7</td></tr>\n",
       "\t<tr><td>김지한</td><td>7</td></tr>\n",
       "\t<tr><td>허수봉</td><td>7</td></tr>\n",
       "</tbody>\n",
       "</table>\n"
      ],
      "text/latex": [
       "A tibble: 10 × 2\n",
       "\\begin{tabular}{ll}\n",
       " name & cm\\\\\n",
       " <chr> & <int>\\\\\n",
       "\\hline\n",
       "\t 함형진 & 8\\\\\n",
       "\t 박준혁 & 8\\\\\n",
       "\t 한정훈 & 8\\\\\n",
       "\t 안준찬 & 8\\\\\n",
       "\t 하승우 & 8\\\\\n",
       "\t 조국기 & 8\\\\\n",
       "\t 정지석 & 7\\\\\n",
       "\t 임동혁 & 7\\\\\n",
       "\t 김지한 & 7\\\\\n",
       "\t 허수봉 & 7\\\\\n",
       "\\end{tabular}\n"
      ],
      "text/markdown": [
       "\n",
       "A tibble: 10 × 2\n",
       "\n",
       "| name &lt;chr&gt; | cm &lt;int&gt; |\n",
       "|---|---|\n",
       "| 함형진 | 8 |\n",
       "| 박준혁 | 8 |\n",
       "| 한정훈 | 8 |\n",
       "| 안준찬 | 8 |\n",
       "| 하승우 | 8 |\n",
       "| 조국기 | 8 |\n",
       "| 정지석 | 7 |\n",
       "| 임동혁 | 7 |\n",
       "| 김지한 | 7 |\n",
       "| 허수봉 | 7 |\n",
       "\n"
      ],
      "text/plain": [
       "   name   cm\n",
       "1  함형진 8 \n",
       "2  박준혁 8 \n",
       "3  한정훈 8 \n",
       "4  안준찬 8 \n",
       "5  하승우 8 \n",
       "6  조국기 8 \n",
       "7  정지석 7 \n",
       "8  임동혁 7 \n",
       "9  김지한 7 \n",
       "10 허수봉 7 "
      ]
     },
     "metadata": {},
     "output_type": "display_data"
    }
   ],
   "source": [
    "# tidygraph에는 이럴 때 쓸 수 있도록 group_infomap() 함수가 들어 있다.\n",
    "\n",
    "#여기서 내림차순을 한 것은 전체 커뮤니티 숫자 확인하기 편하게 한 것이다. 총 8개로 그룹을 나눴다는 것을 알 수 있다.\n",
    "km %>% as_tbl_graph() %>%\n",
    "  mutate(cm=group_infomap()) %>%\n",
    "  arrange(desc(cm)) %>%\n",
    "  as_tibble %>% head(10)"
   ]
  },
  {
   "cell_type": "code",
   "execution_count": 37,
   "metadata": {},
   "outputs": [],
   "source": [
    "## 그룹핑한 것 그래프로 표현하기"
   ]
  },
  {
   "cell_type": "code",
   "execution_count": 38,
   "metadata": {},
   "outputs": [
    {
     "data": {
      "image/png": "[encoded data removed]",
      "text/plain": [
       "plot without title"
      ]
     },
     "metadata": {
      "image/png": {
       "height": 420,
       "width": 420
      }
     },
     "output_type": "display_data"
    }
   ],
   "source": [
    "# 여기에서는 kk 말고 lgl라는 새로운 레이아웃을 사용하였다. 노드의 크기는 pg에 따라 달리 그리고, 노드 색깔은 커뮤니티로 구분하게 하였다. 여기서 cm을 팩터형으로 바꾸어야 범주형 데이터로 바뀌게 된다. 그래야 8가지 색깔이 나올 것이다.\n",
    "\n",
    "km %>% as_tbl_graph() %>%\n",
    "  mutate(pg=centrality_pagerank(),\n",
    "         cm=group_infomap()) %>%\n",
    "  ggraph(layout='lgl') + \n",
    "  geom_edge_link(aes(width=weight), alpha=.8) +\n",
    "  scale_edge_width(range=c(0.2, 2)) +\n",
    "  geom_node_point(aes(size=pg, color=as.factor(cm)))"
   ]
  },
  {
   "cell_type": "code",
   "execution_count": null,
   "metadata": {},
   "outputs": [],
   "source": []
  }
 ],
 "metadata": {
  "kernelspec": {
   "display_name": "R",
   "language": "R",
   "name": "ir"
  },
  "language_info": {
   "codemirror_mode": "r",
   "file_extension": ".r",
   "mimetype": "text/x-r-source",
   "name": "R",
   "pygments_lexer": "r",
   "version": "3.6.1"
  },
  "toc": {
   "base_numbering": 1,
   "nav_menu": {},
   "number_sections": true,
   "sideBar": true,
   "skip_h1_title": false,
   "title_cell": "Table of Contents",
   "title_sidebar": "Contents",
   "toc_cell": false,
   "toc_position": {},
   "toc_section_display": true,
   "toc_window_display": false
  }
 },
 "nbformat": 4,
 "nbformat_minor": 4
}
